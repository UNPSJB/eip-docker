{
 "cells": [
  {
   "cell_type": "markdown",
   "metadata": {},
   "source": [
    "# Contenedores en Desarrollo\n",
    "\n",
    "## Problemas\n",
    "\n",
    "* Línas de comando muy largas `docker run .....`\n",
    "* Si cada contenedor corre un servicio, tenemos que levantar tantos contenedores como componentes tenga nuestra aplicación, y luego dentenerlos... 😫\n",
    "* Definición de redes manuales\n",
    "* Gestión de nombres\n",
    "* etc."
   ]
  },
  {
   "cell_type": "markdown",
   "metadata": {},
   "source": [
    "# [Docker Compose](https://docs.docker.com/compose/overview/)\n",
    "\n",
    "<img src=\"images/docker-compose-logo.png\" width=\"200px\">\n",
    "\n",
    "1. Docker compose resuelve el problema de ejecutar **mútiples contenedores**, utilizando un archivo de definición de configuración [YAML](http://yaml.org/) (puede usar JSON u otros).\n",
    "2. Utiliza comandos más simples:\n",
    "    ```\n",
    "    docker-compose up\n",
    "    \n",
    "    ```\n",
    "3. Casi todas las opiciones de docker run están disponibles desde docker-compose.\n"
   ]
  },
  {
   "cell_type": "markdown",
   "metadata": {},
   "source": [
    "Veamos un ejemplo..."
   ]
  },
  {
   "cell_type": "code",
   "execution_count": 4,
   "metadata": {
    "collapsed": true
   },
   "outputs": [],
   "source": [
    "%%bash\n",
    "mkdir -p compose_wordpress"
   ]
  },
  {
   "cell_type": "code",
   "execution_count": 1,
   "metadata": {},
   "outputs": [
    {
     "name": "stdout",
     "output_type": "stream",
     "text": [
      "Overwriting compose_wordpress/docker-compose.yml\n"
     ]
    }
   ],
   "source": [
    "%%writefile compose_wordpress/docker-compose.yml\n",
    "\n",
    "version: '3.1'\n",
    "\n",
    "services:\n",
    "\n",
    "  wordpress:\n",
    "    image: wordpress\n",
    "    ports:\n",
    "      - 8080:80\n",
    "    environment:\n",
    "      WORDPRESS_DB_PASSWORD: example\n",
    "\n",
    "  mysql:\n",
    "    image: mysql:5.7\n",
    "    environment:\n",
    "      MYSQL_ROOT_PASSWORD: example\n"
   ]
  },
  {
   "cell_type": "markdown",
   "metadata": {},
   "source": [
    "# Versión actual"
   ]
  },
  {
   "cell_type": "code",
   "execution_count": 5,
   "metadata": {},
   "outputs": [
    {
     "name": "stdout",
     "output_type": "stream",
     "text": [
      "docker-compose version 1.14.0, build c7bdf9e\n"
     ]
    }
   ],
   "source": [
    "%%bash\n",
    "docker-compose --version"
   ]
  },
  {
   "cell_type": "markdown",
   "metadata": {},
   "source": [
    "# Como se corre?"
   ]
  },
  {
   "cell_type": "code",
   "execution_count": 7,
   "metadata": {},
   "outputs": [
    {
     "name": "stdout",
     "output_type": "stream",
     "text": [
      "composewordpress_wordpress_1 is up-to-date\n",
      "composewordpress_mysql_1 is up-to-date\n",
      "Attaching to composewordpress_wordpress_1, composewordpress_mysql_1\n",
      "\u001b[36mwordpress_1  |\u001b[0m WordPress not found in /var/www/html - copying now...\n",
      "\u001b[36mwordpress_1  |\u001b[0m Complete! WordPress has been successfully copied to /var/www/html\n",
      "\u001b[36mwordpress_1  |\u001b[0m \n",
      "\u001b[36mwordpress_1  |\u001b[0m MySQL Connection Error: (2002) Connection refused\n",
      "\u001b[36mwordpress_1  |\u001b[0m \n",
      "\u001b[36mwordpress_1  |\u001b[0m Warning: mysqli::mysqli(): (HY000/2002): Connection refused in - on line 22\n",
      "\u001b[36mwordpress_1  |\u001b[0m \n",
      "\u001b[36mwordpress_1  |\u001b[0m MySQL Connection Error: (2002) Connection refused\n",
      "\u001b[36mwordpress_1  |\u001b[0m \n",
      "\u001b[36mwordpress_1  |\u001b[0m Warning: mysqli::mysqli(): (HY000/2002): Connection refused in - on line 22\n",
      "\u001b[36mwordpress_1  |\u001b[0m \n",
      "\u001b[36mwordpress_1  |\u001b[0m Warning: mysqli::mysqli(): (HY000/2002): Connection refused in - on line 22\n",
      "\u001b[36mwordpress_1  |\u001b[0m \n",
      "\u001b[33mmysql_1      |\u001b[0m Initializing database\n",
      "\u001b[36mwordpress_1  |\u001b[0m MySQL Connection Error: (2002) Connection refused\n",
      "\u001b[33mmysql_1      |\u001b[0m 2017-09-20T14:09:27.090269Z 0 [Warning] TIMESTAMP with implicit DEFAULT value is deprecated. Please use --explicit_defaults_for_timestamp server option (see documentation for more details).\n",
      "\u001b[36mwordpress_1  |\u001b[0m \n",
      "\u001b[33mmysql_1      |\u001b[0m 2017-09-20T14:09:27.911134Z 0 [Warning] InnoDB: New log files created, LSN=45790\n",
      "\u001b[33mmysql_1      |\u001b[0m 2017-09-20T14:09:28.084579Z 0 [Warning] InnoDB: Creating foreign key constraint system tables.\n",
      "\u001b[36mwordpress_1  |\u001b[0m Warning: mysqli::mysqli(): (HY000/2002): Connection refused in - on line 22\n",
      "\u001b[33mmysql_1      |\u001b[0m 2017-09-20T14:09:28.122487Z 0 [Warning] No existing UUID has been found, so we assume that this is the first time that this server has been started. Generating a new UUID: 508c4c30-9e0d-11e7-9f47-0242ac1b0002.\n",
      "\u001b[36mwordpress_1  |\u001b[0m \n",
      "\u001b[36mwordpress_1  |\u001b[0m MySQL Connection Error: (2002) Connection refused\n",
      "\u001b[33mmysql_1      |\u001b[0m 2017-09-20T14:09:28.131980Z 0 [Warning] Gtid table is not ready to be used. Table 'mysql.gtid_executed' cannot be opened.\n",
      "\u001b[33mmysql_1      |\u001b[0m 2017-09-20T14:09:28.133533Z 1 [Warning] root@localhost is created with an empty password ! Please consider switching off the --initialize-insecure option.\n",
      "\u001b[36mwordpress_1  |\u001b[0m \n",
      "\u001b[36mwordpress_1  |\u001b[0m Warning: mysqli::mysqli(): (HY000/2002): Connection refused in - on line 22\n",
      "\u001b[33mmysql_1      |\u001b[0m 2017-09-20T14:09:33.293958Z 1 [Warning] 'user' entry 'root@localhost' ignored in --skip-name-resolve mode.\n",
      "\u001b[36mwordpress_1  |\u001b[0m \n",
      "\u001b[33mmysql_1      |\u001b[0m 2017-09-20T14:09:33.294023Z 1 [Warning] 'user' entry 'mysql.session@localhost' ignored in --skip-name-resolve mode.\n",
      "\u001b[36mwordpress_1  |\u001b[0m MySQL Connection Error: (2002) Connection refused\n",
      "\u001b[33mmysql_1      |\u001b[0m 2017-09-20T14:09:33.294042Z 1 [Warning] 'user' entry 'mysql.sys@localhost' ignored in --skip-name-resolve mode.\n",
      "\u001b[36mwordpress_1  |\u001b[0m \n",
      "\u001b[33mmysql_1      |\u001b[0m 2017-09-20T14:09:33.294068Z 1 [Warning] 'db' entry 'performance_schema mysql.session@localhost' ignored in --skip-name-resolve mode.\n",
      "\u001b[36mwordpress_1  |\u001b[0m MySQL Connection Error: (2002) Connection refused\n",
      "\u001b[33mmysql_1      |\u001b[0m 2017-09-20T14:09:33.294106Z 1 [Warning] 'db' entry 'sys mysql.sys@localhost' ignored in --skip-name-resolve mode.\n",
      "\u001b[36mwordpress_1  |\u001b[0m \n",
      "\u001b[33mmysql_1      |\u001b[0m 2017-09-20T14:09:33.294431Z 1 [Warning] 'proxies_priv' entry '@ root@localhost' ignored in --skip-name-resolve mode.\n",
      "\u001b[36mwordpress_1  |\u001b[0m Warning: mysqli::mysqli(): (HY000/2002): Connection refused in - on line 22\n",
      "\u001b[33mmysql_1      |\u001b[0m 2017-09-20T14:09:33.295302Z 1 [Warning] 'tables_priv' entry 'user mysql.session@localhost' ignored in --skip-name-resolve mode.\n",
      "\u001b[36mwordpress_1  |\u001b[0m \n",
      "\u001b[33mmysql_1      |\u001b[0m 2017-09-20T14:09:33.295326Z 1 [Warning] 'tables_priv' entry 'sys_config mysql.sys@localhost' ignored in --skip-name-resolve mode.\n",
      "\u001b[36mwordpress_1  |\u001b[0m MySQL Connection Error: (2002) Connection refused\n",
      "\u001b[33mmysql_1      |\u001b[0m Database initialized\n",
      "\u001b[36mwordpress_1  |\u001b[0m \n",
      "\u001b[33mmysql_1      |\u001b[0m Initializing certificates\n",
      "\u001b[33mmysql_1      |\u001b[0m Generating a 2048 bit RSA private key\n",
      "\u001b[36mwordpress_1  |\u001b[0m Warning: mysqli::mysqli(): (HY000/2002): Connection refused in - on line 22\n",
      "\u001b[33mmysql_1      |\u001b[0m ..........................................................+++\n",
      "\u001b[36mwordpress_1  |\u001b[0m AH00558: apache2: Could not reliably determine the server's fully qualified domain name, using 172.27.0.3. Set the 'ServerName' directive globally to suppress this message\n",
      "\u001b[33mmysql_1      |\u001b[0m .+++\n",
      "\u001b[36mwordpress_1  |\u001b[0m AH00558: apache2: Could not reliably determine the server's fully qualified domain name, using 172.27.0.3. Set the 'ServerName' directive globally to suppress this message\n",
      "\u001b[33mmysql_1      |\u001b[0m unable to write 'random state'\n",
      "\u001b[36mwordpress_1  |\u001b[0m [Wed Sep 20 14:09:48.670295 2017] [mpm_prefork:notice] [pid 1] AH00163: Apache/2.4.10 (Debian) PHP/5.6.31 configured -- resuming normal operations\n",
      "\u001b[33mmysql_1      |\u001b[0m writing new private key to 'ca-key.pem'\n",
      "\u001b[33mmysql_1      |\u001b[0m -----\n",
      "\u001b[33mmysql_1      |\u001b[0m Generating a 2048 bit RSA private key\n",
      "\u001b[36mwordpress_1  |\u001b[0m [Wed Sep 20 14:09:48.670532 2017] [core:notice] [pid 1] AH00094: Command line: 'apache2 -D FOREGROUND'\n",
      "\u001b[33mmysql_1      |\u001b[0m ...+++\n",
      "\u001b[33mmysql_1      |\u001b[0m .......................................+++\n",
      "\u001b[36mwordpress_1  |\u001b[0m 172.27.0.1 - - [20/Sep/2017:14:13:34 +0000] \"GET / HTTP/1.1\" 302 379 \"-\" \"Mozilla/5.0 (Macintosh; Intel Mac OS X 10_12_6) AppleWebKit/537.36 (KHTML, like Gecko) Chrome/60.0.3112.113 Safari/537.36\"\n",
      "\u001b[36mwordpress_1  |\u001b[0m 172.27.0.1 - - [20/Sep/2017:14:13:34 +0000] \"GET /wp-admin/install.php HTTP/1.1\" 200 4218 \"-\" \"Mozilla/5.0 (Macintosh; Intel Mac OS X 10_12_6) AppleWebKit/537.36 (KHTML, like Gecko) Chrome/60.0.3112.113 Safari/537.36\"\n",
      "\u001b[33mmysql_1      |\u001b[0m unable to write 'random state'\n",
      "\u001b[36mwordpress_1  |\u001b[0m 172.27.0.1 - - [20/Sep/2017:14:13:39 +0000] \"GET /wp-includes/css/buttons.min.css?ver=4.8.1 HTTP/1.1\" 200 1887 \"http://localhost:8080/wp-admin/install.php\" \"Mozilla/5.0 (Macintosh; Intel Mac OS X 10_12_6) AppleWebKit/537.36 (KHTML, like Gecko) Chrome/60.0.3112.113 Safari/537.36\"\n",
      "\u001b[33mmysql_1      |\u001b[0m writing new private key to 'server-key.pem'\n",
      "\u001b[36mwordpress_1  |\u001b[0m 172.27.0.1 - - [20/Sep/2017:14:13:39 +0000] \"GET /wp-admin/css/install.min.css?ver=4.8.1 HTTP/1.1\" 200 2329 \"http://localhost:8080/wp-admin/install.php\" \"Mozilla/5.0 (Macintosh; Intel Mac OS X 10_12_6) AppleWebKit/537.36 (KHTML, like Gecko) Chrome/60.0.3112.113 Safari/537.36\"\n",
      "\u001b[33mmysql_1      |\u001b[0m -----\n",
      "\u001b[33mmysql_1      |\u001b[0m Generating a 2048 bit RSA private key\n",
      "\u001b[36mwordpress_1  |\u001b[0m 172.27.0.1 - - [20/Sep/2017:14:13:39 +0000] \"GET /wp-includes/css/dashicons.min.css?ver=4.8.1 HTTP/1.1\" 200 28951 \"http://localhost:8080/wp-admin/install.php\" \"Mozilla/5.0 (Macintosh; Intel Mac OS X 10_12_6) AppleWebKit/537.36 (KHTML, like Gecko) Chrome/60.0.3112.113 Safari/537.36\"\n",
      "\u001b[33mmysql_1      |\u001b[0m ....................+++\n",
      "\u001b[36mwordpress_1  |\u001b[0m 172.27.0.1 - - [20/Sep/2017:14:13:39 +0000] \"GET /wp-includes/js/jquery/jquery.js?ver=1.12.4 HTTP/1.1\" 200 34120 \"http://localhost:8080/wp-admin/install.php\" \"Mozilla/5.0 (Macintosh; Intel Mac OS X 10_12_6) AppleWebKit/537.36 (KHTML, like Gecko) Chrome/60.0.3112.113 Safari/537.36\"\n",
      "\u001b[33mmysql_1      |\u001b[0m ..........+++\n",
      "\u001b[36mwordpress_1  |\u001b[0m 172.27.0.1 - - [20/Sep/2017:14:13:39 +0000] \"GET /wp-includes/js/jquery/jquery-migrate.min.js?ver=1.4.1 HTTP/1.1\" 200 4366 \"http://localhost:8080/wp-admin/install.php\" \"Mozilla/5.0 (Macintosh; Intel Mac OS X 10_12_6) AppleWebKit/537.36 (KHTML, like Gecko) Chrome/60.0.3112.113 Safari/537.36\"\n",
      "\u001b[33mmysql_1      |\u001b[0m unable to write 'random state'\n",
      "\u001b[36mwordpress_1  |\u001b[0m 172.27.0.1 - - [20/Sep/2017:14:13:39 +0000] \"GET /wp-admin/js/language-chooser.min.js?ver=4.8.1 HTTP/1.1\" 200 590 \"http://localhost:8080/wp-admin/install.php\" \"Mozilla/5.0 (Macintosh; Intel Mac OS X 10_12_6) AppleWebKit/537.36 (KHTML, like Gecko) Chrome/60.0.3112.113 Safari/537.36\"\n",
      "\u001b[33mmysql_1      |\u001b[0m writing new private key to 'client-key.pem'\n",
      "\u001b[33mmysql_1      |\u001b[0m -----\n",
      "\u001b[36mwordpress_1  |\u001b[0m 172.27.0.1 - - [20/Sep/2017:14:13:39 +0000] \"GET /wp-admin/images/spinner-2x.gif HTTP/1.1\" 200 8822 \"http://localhost:8080/wp-admin/css/install.min.css?ver=4.8.1\" \"Mozilla/5.0 (Macintosh; Intel Mac OS X 10_12_6) AppleWebKit/537.36 (KHTML, like Gecko) Chrome/60.0.3112.113 Safari/537.36\"\n",
      "\u001b[33mmysql_1      |\u001b[0m Certificates initialized\n",
      "\u001b[36mwordpress_1  |\u001b[0m 172.27.0.1 - - [20/Sep/2017:14:13:39 +0000] \"GET /wp-admin/images/wordpress-logo.svg?ver=20131107 HTTP/1.1\" 200 1810 \"http://localhost:8080/wp-admin/css/install.min.css?ver=4.8.1\" \"Mozilla/5.0 (Macintosh; Intel Mac OS X 10_12_6) AppleWebKit/537.36 (KHTML, like Gecko) Chrome/60.0.3112.113 Safari/537.36\"\n",
      "\u001b[33mmysql_1      |\u001b[0m MySQL init process in progress...\n",
      "\u001b[36mwordpress_1  |\u001b[0m 172.27.0.1 - - [20/Sep/2017:14:13:40 +0000] \"GET /favicon.ico HTTP/1.1\" 200 228 \"http://localhost:8080/wp-admin/install.php\" \"Mozilla/5.0 (Macintosh; Intel Mac OS X 10_12_6) AppleWebKit/537.36 (KHTML, like Gecko) Chrome/60.0.3112.113 Safari/537.36\"\n",
      "\u001b[33mmysql_1      |\u001b[0m 2017-09-20T14:09:38.428693Z 0 [Warning] TIMESTAMP with implicit DEFAULT value is deprecated. Please use --explicit_defaults_for_timestamp server option (see documentation for more details).\n",
      "\u001b[36mwordpress_1  |\u001b[0m 127.0.0.1 - - [20/Sep/2017:14:13:46 +0000] \"OPTIONS * HTTP/1.0\" 200 126 \"-\" \"Apache/2.4.10 (Debian) PHP/5.6.31 (internal dummy connection)\"\n",
      "\u001b[36mwordpress_1  |\u001b[0m 127.0.0.1 - - [20/Sep/2017:14:13:47 +0000] \"OPTIONS * HTTP/1.0\" 200 126 \"-\" \"Apache/2.4.10 (Debian) PHP/5.6.31 (internal dummy connection)\"\n",
      "\u001b[33mmysql_1      |\u001b[0m 2017-09-20T14:09:38.436481Z 0 [Note] mysqld (mysqld 5.7.19) starting as process 88 ...\n",
      "\u001b[36mwordpress_1  |\u001b[0m 127.0.0.1 - - [20/Sep/2017:14:13:48 +0000] \"OPTIONS * HTTP/1.0\" 200 126 \"-\" \"Apache/2.4.10 (Debian) PHP/5.6.31 (internal dummy connection)\"\n",
      "\u001b[33mmysql_1      |\u001b[0m 2017-09-20T14:09:38.444225Z 0 [Note] InnoDB: PUNCH HOLE support available\n",
      "\u001b[36mwordpress_1  |\u001b[0m \n",
      "\u001b[33mmysql_1      |\u001b[0m 2017-09-20T14:09:38.444301Z 0 [Note] InnoDB: Mutexes and rw_locks use GCC atomic builtins\n",
      "\u001b[33mmysql_1      |\u001b[0m 2017-09-20T14:09:38.444325Z 0 [Note] InnoDB: Uses event mutexes\n",
      "\u001b[36mwordpress_1  |\u001b[0m Warning: mysqli::mysqli(): (HY000/2002): Connection refused in - on line 22\n",
      "\u001b[36mwordpress_1  |\u001b[0m \n",
      "\u001b[36mwordpress_1  |\u001b[0m MySQL Connection Error: (2002) Connection refused\n",
      "\u001b[36mwordpress_1  |\u001b[0m AH00558: apache2: Could not reliably determine the server's fully qualified domain name, using 172.27.0.3. Set the 'ServerName' directive globally to suppress this message\n",
      "\u001b[33mmysql_1      |\u001b[0m 2017-09-20T14:09:38.444344Z 0 [Note] InnoDB: GCC builtin __atomic_thread_fence() is used for memory barrier\n",
      "\u001b[36mwordpress_1  |\u001b[0m AH00558: apache2: Could not reliably determine the server's fully qualified domain name, using 172.27.0.3. Set the 'ServerName' directive globally to suppress this message\n",
      "\u001b[33mmysql_1      |\u001b[0m 2017-09-20T14:09:38.444377Z 0 [Note] InnoDB: Compressed tables use zlib 1.2.3\n",
      "\u001b[36mwordpress_1  |\u001b[0m [Wed Sep 20 21:10:18.824757 2017] [mpm_prefork:notice] [pid 1] AH00163: Apache/2.4.10 (Debian) PHP/5.6.31 configured -- resuming normal operations\n",
      "\u001b[33mmysql_1      |\u001b[0m 2017-09-20T14:09:38.444397Z 0 [Note] InnoDB: Using Linux native AIO\n",
      "\u001b[36mwordpress_1  |\u001b[0m [Wed Sep 20 21:10:18.824821 2017] [core:notice] [pid 1] AH00094: Command line: 'apache2 -D FOREGROUND'\n",
      "\u001b[33mmysql_1      |\u001b[0m 2017-09-20T14:09:38.444819Z 0 [Note] InnoDB: Number of pools: 1\n",
      "\u001b[33mmysql_1      |\u001b[0m 2017-09-20T14:09:38.444970Z 0 [Note] InnoDB: Using CPU crc32 instructions\n",
      "\u001b[33mmysql_1      |\u001b[0m 2017-09-20T14:09:38.450097Z 0 [Note] InnoDB: Initializing buffer pool, total size = 128M, instances = 1, chunk size = 128M\n",
      "\u001b[33mmysql_1      |\u001b[0m 2017-09-20T14:09:38.489139Z 0 [Note] InnoDB: Completed initialization of buffer pool\n",
      "\u001b[33mmysql_1      |\u001b[0m 2017-09-20T14:09:38.502687Z 0 [Note] InnoDB: If the mysqld execution user is authorized, page cleaner thread priority can be changed. See the man page of setpriority().\n",
      "\u001b[33mmysql_1      |\u001b[0m 2017-09-20T14:09:38.527782Z 0 [Note] InnoDB: Highest supported file format is Barracuda.\n",
      "\u001b[33mmysql_1      |\u001b[0m 2017-09-20T14:09:38.563506Z 0 [Note] InnoDB: Creating shared tablespace for temporary tables\n",
      "\u001b[33mmysql_1      |\u001b[0m 2017-09-20T14:09:38.563775Z 0 [Note] InnoDB: Setting file './ibtmp1' size to 12 MB. Physically writing the file full; Please wait ...\n",
      "\u001b[33mmysql_1      |\u001b[0m 2017-09-20T14:09:39.009383Z 0 [Note] InnoDB: File './ibtmp1' size is now 12 MB.\n",
      "\u001b[33mmysql_1      |\u001b[0m 2017-09-20T14:09:39.011792Z 0 [Note] InnoDB: 96 redo rollback segment(s) found. 96 redo rollback segment(s) are active.\n",
      "\u001b[33mmysql_1      |\u001b[0m 2017-09-20T14:09:39.011909Z 0 [Note] InnoDB: 32 non-redo rollback segment(s) are active.\n",
      "\u001b[33mmysql_1      |\u001b[0m 2017-09-20T14:09:39.012820Z 0 [Note] InnoDB: Waiting for purge to start\n",
      "\u001b[33mmysql_1      |\u001b[0m 2017-09-20T14:09:39.064206Z 0 [Note] InnoDB: 5.7.19 started; log sequence number 2539992\n",
      "\u001b[33mmysql_1      |\u001b[0m 2017-09-20T14:09:39.065124Z 0 [Note] InnoDB: Loading buffer pool(s) from /var/lib/mysql/ib_buffer_pool\n",
      "\u001b[33mmysql_1      |\u001b[0m 2017-09-20T14:09:39.065581Z 0 [Note] Plugin 'FEDERATED' is disabled.\n",
      "\u001b[33mmysql_1      |\u001b[0m 2017-09-20T14:09:39.070562Z 0 [Note] InnoDB: Buffer pool(s) load completed at 170920 14:09:39\n",
      "\u001b[33mmysql_1      |\u001b[0m 2017-09-20T14:09:39.075033Z 0 [Note] Found ca.pem, server-cert.pem and server-key.pem in data directory. Trying to enable SSL support using them.\n",
      "\u001b[33mmysql_1      |\u001b[0m 2017-09-20T14:09:39.075305Z 0 [Warning] CA certificate ca.pem is self signed.\n",
      "\u001b[33mmysql_1      |\u001b[0m 2017-09-20T14:09:39.093477Z 0 [Warning] 'user' entry 'root@localhost' ignored in --skip-name-resolve mode.\n",
      "\u001b[33mmysql_1      |\u001b[0m 2017-09-20T14:09:39.093555Z 0 [Warning] 'user' entry 'mysql.session@localhost' ignored in --skip-name-resolve mode.\n",
      "\u001b[33mmysql_1      |\u001b[0m 2017-09-20T14:09:39.093587Z 0 [Warning] 'user' entry 'mysql.sys@localhost' ignored in --skip-name-resolve mode.\n",
      "\u001b[33mmysql_1      |\u001b[0m 2017-09-20T14:09:39.093628Z 0 [Warning] 'db' entry 'performance_schema mysql.session@localhost' ignored in --skip-name-resolve mode.\n",
      "\u001b[33mmysql_1      |\u001b[0m 2017-09-20T14:09:39.093662Z 0 [Warning] 'db' entry 'sys mysql.sys@localhost' ignored in --skip-name-resolve mode.\n",
      "\u001b[33mmysql_1      |\u001b[0m 2017-09-20T14:09:39.093742Z 0 [Warning] 'proxies_priv' entry '@ root@localhost' ignored in --skip-name-resolve mode.\n",
      "\u001b[33mmysql_1      |\u001b[0m 2017-09-20T14:09:39.095772Z 0 [Warning] 'tables_priv' entry 'user mysql.session@localhost' ignored in --skip-name-resolve mode.\n",
      "\u001b[33mmysql_1      |\u001b[0m 2017-09-20T14:09:39.095891Z 0 [Warning] 'tables_priv' entry 'sys_config mysql.sys@localhost' ignored in --skip-name-resolve mode.\n",
      "\u001b[33mmysql_1      |\u001b[0m 2017-09-20T14:09:39.104103Z 0 [Note] Event Scheduler: Loaded 0 events\n",
      "\u001b[33mmysql_1      |\u001b[0m 2017-09-20T14:09:39.104530Z 0 [Note] mysqld: ready for connections.\n",
      "\u001b[33mmysql_1      |\u001b[0m Version: '5.7.19'  socket: '/var/run/mysqld/mysqld.sock'  port: 0  MySQL Community Server (GPL)\n",
      "\u001b[33mmysql_1      |\u001b[0m 2017-09-20T14:09:39.104576Z 0 [Note] Executing 'SELECT * FROM INFORMATION_SCHEMA.TABLES;' to get a list of tables using the deprecated partition engine. You may use the startup option '--disable-partition-engine-check' to skip this check. \n",
      "\u001b[33mmysql_1      |\u001b[0m 2017-09-20T14:09:39.104592Z 0 [Note] Beginning of list of non-natively partitioned tables\n",
      "\u001b[33mmysql_1      |\u001b[0m 2017-09-20T14:09:39.119176Z 0 [Note] End of list of non-natively partitioned tables\n",
      "\u001b[33mmysql_1      |\u001b[0m Warning: Unable to load '/usr/share/zoneinfo/iso3166.tab' as time zone. Skipping it.\n",
      "\u001b[33mmysql_1      |\u001b[0m Warning: Unable to load '/usr/share/zoneinfo/leap-seconds.list' as time zone. Skipping it.\n",
      "\u001b[33mmysql_1      |\u001b[0m Warning: Unable to load '/usr/share/zoneinfo/zone.tab' as time zone. Skipping it.\n",
      "\u001b[33mmysql_1      |\u001b[0m 2017-09-20T14:09:43.736054Z 5 [Warning] 'user' entry 'root@localhost' ignored in --skip-name-resolve mode.\n",
      "\u001b[33mmysql_1      |\u001b[0m 2017-09-20T14:09:43.736098Z 5 [Warning] 'user' entry 'mysql.sys@localhost' ignored in --skip-name-resolve mode.\n",
      "\u001b[33mmysql_1      |\u001b[0m 2017-09-20T14:09:43.736114Z 5 [Warning] 'db' entry 'performance_schema mysql.session@localhost' ignored in --skip-name-resolve mode.\n",
      "\u001b[33mmysql_1      |\u001b[0m 2017-09-20T14:09:43.736122Z 5 [Warning] 'db' entry 'sys mysql.sys@localhost' ignored in --skip-name-resolve mode.\n",
      "\u001b[33mmysql_1      |\u001b[0m 2017-09-20T14:09:43.736132Z 5 [Warning] 'proxies_priv' entry '@ root@localhost' ignored in --skip-name-resolve mode.\n",
      "\u001b[33mmysql_1      |\u001b[0m 2017-09-20T14:09:43.736272Z 5 [Warning] 'tables_priv' entry 'user mysql.session@localhost' ignored in --skip-name-resolve mode.\n",
      "\u001b[33mmysql_1      |\u001b[0m 2017-09-20T14:09:43.736300Z 5 [Warning] 'tables_priv' entry 'sys_config mysql.sys@localhost' ignored in --skip-name-resolve mode.\n",
      "\u001b[33mmysql_1      |\u001b[0m \n",
      "\u001b[33mmysql_1      |\u001b[0m 2017-09-20T14:09:43.739216Z 0 [Note] Giving 0 client threads a chance to die gracefully\n",
      "\u001b[33mmysql_1      |\u001b[0m 2017-09-20T14:09:43.739268Z 0 [Note] Shutting down slave threads\n",
      "\u001b[33mmysql_1      |\u001b[0m 2017-09-20T14:09:43.739633Z 0 [Note] Forcefully disconnecting 0 remaining clients\n",
      "\u001b[33mmysql_1      |\u001b[0m 2017-09-20T14:09:43.739664Z 0 [Note] Event Scheduler: Purging the queue. 0 events\n",
      "\u001b[33mmysql_1      |\u001b[0m 2017-09-20T14:09:43.740015Z 0 [Note] Binlog end\n",
      "\u001b[33mmysql_1      |\u001b[0m 2017-09-20T14:09:43.741148Z 0 [Note] Shutting down plugin 'ngram'\n",
      "\u001b[33mmysql_1      |\u001b[0m 2017-09-20T14:09:43.741179Z 0 [Note] Shutting down plugin 'ARCHIVE'\n",
      "\u001b[33mmysql_1      |\u001b[0m 2017-09-20T14:09:43.741469Z 0 [Note] Shutting down plugin 'partition'\n",
      "\u001b[33mmysql_1      |\u001b[0m 2017-09-20T14:09:43.741495Z 0 [Note] Shutting down plugin 'BLACKHOLE'\n",
      "\u001b[33mmysql_1      |\u001b[0m 2017-09-20T14:09:43.741506Z 0 [Note] Shutting down plugin 'MyISAM'\n",
      "\u001b[33mmysql_1      |\u001b[0m 2017-09-20T14:09:43.741522Z 0 [Note] Shutting down plugin 'MRG_MYISAM'\n",
      "\u001b[33mmysql_1      |\u001b[0m 2017-09-20T14:09:43.741804Z 0 [Note] Shutting down plugin 'INNODB_SYS_VIRTUAL'\n",
      "\u001b[33mmysql_1      |\u001b[0m 2017-09-20T14:09:43.741814Z 0 [Note] Shutting down plugin 'INNODB_SYS_DATAFILES'\n",
      "\u001b[33mmysql_1      |\u001b[0m 2017-09-20T14:09:43.741823Z 0 [Note] Shutting down plugin 'INNODB_SYS_TABLESPACES'\n",
      "\u001b[33mmysql_1      |\u001b[0m 2017-09-20T14:09:43.741833Z 0 [Note] Shutting down plugin 'INNODB_SYS_FOREIGN_COLS'\n",
      "\u001b[33mmysql_1      |\u001b[0m 2017-09-20T14:09:43.742230Z 0 [Note] Shutting down plugin 'INNODB_SYS_FOREIGN'\n",
      "\u001b[33mmysql_1      |\u001b[0m 2017-09-20T14:09:43.742534Z 0 [Note] Shutting down plugin 'INNODB_SYS_FIELDS'\n",
      "\u001b[33mmysql_1      |\u001b[0m 2017-09-20T14:09:43.742564Z 0 [Note] Shutting down plugin 'INNODB_SYS_COLUMNS'\n",
      "\u001b[33mmysql_1      |\u001b[0m 2017-09-20T14:09:43.742580Z 0 [Note] Shutting down plugin 'INNODB_SYS_INDEXES'\n",
      "\u001b[33mmysql_1      |\u001b[0m 2017-09-20T14:09:43.742902Z 0 [Note] Shutting down plugin 'INNODB_SYS_TABLESTATS'\n",
      "\u001b[33mmysql_1      |\u001b[0m 2017-09-20T14:09:43.742913Z 0 [Note] Shutting down plugin 'INNODB_SYS_TABLES'\n",
      "\u001b[33mmysql_1      |\u001b[0m 2017-09-20T14:09:43.742923Z 0 [Note] Shutting down plugin 'INNODB_FT_INDEX_TABLE'\n",
      "\u001b[33mmysql_1      |\u001b[0m 2017-09-20T14:09:43.742936Z 0 [Note] Shutting down plugin 'INNODB_FT_INDEX_CACHE'\n",
      "\u001b[33mmysql_1      |\u001b[0m 2017-09-20T14:09:43.743237Z 0 [Note] Shutting down plugin 'INNODB_FT_CONFIG'\n",
      "\u001b[33mmysql_1      |\u001b[0m 2017-09-20T14:09:43.743252Z 0 [Note] Shutting down plugin 'INNODB_FT_BEING_DELETED'\n",
      "\u001b[33mmysql_1      |\u001b[0m 2017-09-20T14:09:43.743576Z 0 [Note] Shutting down plugin 'INNODB_FT_DELETED'\n",
      "\u001b[33mmysql_1      |\u001b[0m 2017-09-20T14:09:43.743586Z 0 [Note] Shutting down plugin 'INNODB_FT_DEFAULT_STOPWORD'\n",
      "\u001b[33mmysql_1      |\u001b[0m 2017-09-20T14:09:43.743596Z 0 [Note] Shutting down plugin 'INNODB_METRICS'\n",
      "\u001b[33mmysql_1      |\u001b[0m 2017-09-20T14:09:43.743741Z 0 [Note] Shutting down plugin 'INNODB_TEMP_TABLE_INFO'\n",
      "\u001b[33mmysql_1      |\u001b[0m 2017-09-20T14:09:43.744008Z 0 [Note] Shutting down plugin 'INNODB_BUFFER_POOL_STATS'\n",
      "\u001b[33mmysql_1      |\u001b[0m 2017-09-20T14:09:43.744339Z 0 [Note] Shutting down plugin 'INNODB_BUFFER_PAGE_LRU'\n",
      "\u001b[33mmysql_1      |\u001b[0m 2017-09-20T14:09:43.744358Z 0 [Note] Shutting down plugin 'INNODB_BUFFER_PAGE'\n",
      "\u001b[33mmysql_1      |\u001b[0m 2017-09-20T14:09:43.744672Z 0 [Note] Shutting down plugin 'INNODB_CMP_PER_INDEX_RESET'\n",
      "\u001b[33mmysql_1      |\u001b[0m 2017-09-20T14:09:43.744709Z 0 [Note] Shutting down plugin 'INNODB_CMP_PER_INDEX'\n",
      "\u001b[33mmysql_1      |\u001b[0m 2017-09-20T14:09:43.744719Z 0 [Note] Shutting down plugin 'INNODB_CMPMEM_RESET'\n",
      "\u001b[33mmysql_1      |\u001b[0m 2017-09-20T14:09:43.744728Z 0 [Note] Shutting down plugin 'INNODB_CMPMEM'\n",
      "\u001b[33mmysql_1      |\u001b[0m 2017-09-20T14:09:43.744854Z 0 [Note] Shutting down plugin 'INNODB_CMP_RESET'\n",
      "\u001b[33mmysql_1      |\u001b[0m 2017-09-20T14:09:43.745073Z 0 [Note] Shutting down plugin 'INNODB_CMP'\n",
      "\u001b[33mmysql_1      |\u001b[0m 2017-09-20T14:09:43.745091Z 0 [Note] Shutting down plugin 'INNODB_LOCK_WAITS'\n",
      "\u001b[33mmysql_1      |\u001b[0m 2017-09-20T14:09:43.745353Z 0 [Note] Shutting down plugin 'INNODB_LOCKS'\n",
      "\u001b[33mmysql_1      |\u001b[0m 2017-09-20T14:09:43.745493Z 0 [Note] Shutting down plugin 'INNODB_TRX'\n",
      "\u001b[33mmysql_1      |\u001b[0m 2017-09-20T14:09:43.745512Z 0 [Note] Shutting down plugin 'InnoDB'\n",
      "\u001b[33mmysql_1      |\u001b[0m 2017-09-20T14:09:43.746559Z 0 [Note] InnoDB: FTS optimize thread exiting.\n",
      "\u001b[33mmysql_1      |\u001b[0m 2017-09-20T14:09:43.747131Z 0 [Note] InnoDB: Starting shutdown...\n",
      "\u001b[33mmysql_1      |\u001b[0m 2017-09-20T14:09:43.848038Z 0 [Note] InnoDB: Dumping buffer pool(s) to /var/lib/mysql/ib_buffer_pool\n",
      "\u001b[33mmysql_1      |\u001b[0m 2017-09-20T14:09:43.848789Z 0 [Note] InnoDB: Buffer pool(s) dump completed at 170920 14:09:43\n",
      "\u001b[33mmysql_1      |\u001b[0m 2017-09-20T14:09:45.746542Z 0 [Note] InnoDB: Shutdown completed; log sequence number 12144294\n",
      "\u001b[33mmysql_1      |\u001b[0m 2017-09-20T14:09:45.752000Z 0 [Note] InnoDB: Removed temporary tablespace data file: \"ibtmp1\"\n",
      "\u001b[33mmysql_1      |\u001b[0m 2017-09-20T14:09:45.752113Z 0 [Note] Shutting down plugin 'CSV'\n",
      "\u001b[33mmysql_1      |\u001b[0m 2017-09-20T14:09:45.752140Z 0 [Note] Shutting down plugin 'MEMORY'\n",
      "\u001b[33mmysql_1      |\u001b[0m 2017-09-20T14:09:45.752154Z 0 [Note] Shutting down plugin 'PERFORMANCE_SCHEMA'\n",
      "\u001b[33mmysql_1      |\u001b[0m 2017-09-20T14:09:45.752529Z 0 [Note] Shutting down plugin 'sha256_password'\n",
      "\u001b[33mmysql_1      |\u001b[0m 2017-09-20T14:09:45.752573Z 0 [Note] Shutting down plugin 'mysql_native_password'\n",
      "\u001b[33mmysql_1      |\u001b[0m 2017-09-20T14:09:45.752949Z 0 [Note] Shutting down plugin 'binlog'\n",
      "\u001b[33mmysql_1      |\u001b[0m 2017-09-20T14:09:45.757086Z 0 [Note] mysqld: Shutdown complete\n",
      "\u001b[33mmysql_1      |\u001b[0m \n",
      "\u001b[33mmysql_1      |\u001b[0m \n",
      "\u001b[33mmysql_1      |\u001b[0m MySQL init process done. Ready for start up.\n",
      "\u001b[33mmysql_1      |\u001b[0m \n",
      "\u001b[33mmysql_1      |\u001b[0m 2017-09-20T14:09:46.067127Z 0 [Warning] TIMESTAMP with implicit DEFAULT value is deprecated. Please use --explicit_defaults_for_timestamp server option (see documentation for more details).\n",
      "\u001b[33mmysql_1      |\u001b[0m 2017-09-20T14:09:46.068226Z 0 [Note] mysqld (mysqld 5.7.19) starting as process 1 ...\n",
      "\u001b[33mmysql_1      |\u001b[0m 2017-09-20T14:09:46.072394Z 0 [Note] InnoDB: PUNCH HOLE support available\n",
      "\u001b[33mmysql_1      |\u001b[0m 2017-09-20T14:09:46.072490Z 0 [Note] InnoDB: Mutexes and rw_locks use GCC atomic builtins\n",
      "\u001b[33mmysql_1      |\u001b[0m 2017-09-20T14:09:46.072505Z 0 [Note] InnoDB: Uses event mutexes\n",
      "\u001b[33mmysql_1      |\u001b[0m 2017-09-20T14:09:46.072526Z 0 [Note] InnoDB: GCC builtin __atomic_thread_fence() is used for memory barrier\n",
      "\u001b[33mmysql_1      |\u001b[0m 2017-09-20T14:09:46.072538Z 0 [Note] InnoDB: Compressed tables use zlib 1.2.3\n",
      "\u001b[33mmysql_1      |\u001b[0m 2017-09-20T14:09:46.072687Z 0 [Note] InnoDB: Using Linux native AIO\n",
      "\u001b[33mmysql_1      |\u001b[0m 2017-09-20T14:09:46.073200Z 0 [Note] InnoDB: Number of pools: 1\n",
      "\u001b[33mmysql_1      |\u001b[0m 2017-09-20T14:09:46.073480Z 0 [Note] InnoDB: Using CPU crc32 instructions\n",
      "\u001b[33mmysql_1      |\u001b[0m 2017-09-20T14:09:46.075188Z 0 [Note] InnoDB: Initializing buffer pool, total size = 128M, instances = 1, chunk size = 128M\n",
      "\u001b[33mmysql_1      |\u001b[0m 2017-09-20T14:09:46.081902Z 0 [Note] InnoDB: Completed initialization of buffer pool\n",
      "\u001b[33mmysql_1      |\u001b[0m 2017-09-20T14:09:46.083520Z 0 [Note] InnoDB: If the mysqld execution user is authorized, page cleaner thread priority can be changed. See the man page of setpriority().\n",
      "\u001b[33mmysql_1      |\u001b[0m 2017-09-20T14:09:46.097056Z 0 [Note] InnoDB: Highest supported file format is Barracuda.\n",
      "\u001b[33mmysql_1      |\u001b[0m 2017-09-20T14:09:46.126518Z 0 [Note] InnoDB: Creating shared tablespace for temporary tables\n",
      "\u001b[33mmysql_1      |\u001b[0m 2017-09-20T14:09:46.126725Z 0 [Note] InnoDB: Setting file './ibtmp1' size to 12 MB. Physically writing the file full; Please wait ...\n",
      "\u001b[33mmysql_1      |\u001b[0m 2017-09-20T14:09:46.205480Z 0 [Note] InnoDB: File './ibtmp1' size is now 12 MB.\n",
      "\u001b[33mmysql_1      |\u001b[0m 2017-09-20T14:09:46.208601Z 0 [Note] InnoDB: 96 redo rollback segment(s) found. 96 redo rollback segment(s) are active.\n",
      "\u001b[33mmysql_1      |\u001b[0m 2017-09-20T14:09:46.208651Z 0 [Note] InnoDB: 32 non-redo rollback segment(s) are active.\n",
      "\u001b[33mmysql_1      |\u001b[0m 2017-09-20T14:09:46.209966Z 0 [Note] InnoDB: 5.7.19 started; log sequence number 12144294\n",
      "\u001b[33mmysql_1      |\u001b[0m 2017-09-20T14:09:46.210366Z 0 [Note] InnoDB: Loading buffer pool(s) from /var/lib/mysql/ib_buffer_pool\n",
      "\u001b[33mmysql_1      |\u001b[0m 2017-09-20T14:09:46.210907Z 0 [Note] Plugin 'FEDERATED' is disabled.\n",
      "\u001b[33mmysql_1      |\u001b[0m 2017-09-20T14:09:46.215442Z 0 [Note] InnoDB: Buffer pool(s) load completed at 170920 14:09:46\n",
      "\u001b[33mmysql_1      |\u001b[0m 2017-09-20T14:09:46.219516Z 0 [Note] Found ca.pem, server-cert.pem and server-key.pem in data directory. Trying to enable SSL support using them.\n",
      "\u001b[33mmysql_1      |\u001b[0m 2017-09-20T14:09:46.220048Z 0 [Warning] CA certificate ca.pem is self signed.\n",
      "\u001b[33mmysql_1      |\u001b[0m 2017-09-20T14:09:46.222843Z 0 [Note] Server hostname (bind-address): '*'; port: 3306\n",
      "\u001b[33mmysql_1      |\u001b[0m 2017-09-20T14:09:46.223421Z 0 [Note] IPv6 is available.\n",
      "\u001b[33mmysql_1      |\u001b[0m 2017-09-20T14:09:46.223530Z 0 [Note]   - '::' resolves to '::';\n",
      "\u001b[33mmysql_1      |\u001b[0m 2017-09-20T14:09:46.223668Z 0 [Note] Server socket created on IP: '::'.\n",
      "\u001b[33mmysql_1      |\u001b[0m 2017-09-20T14:09:46.241045Z 0 [Warning] 'user' entry 'root@localhost' ignored in --skip-name-resolve mode.\n",
      "\u001b[33mmysql_1      |\u001b[0m 2017-09-20T14:09:46.241496Z 0 [Warning] 'user' entry 'mysql.sys@localhost' ignored in --skip-name-resolve mode.\n",
      "\u001b[33mmysql_1      |\u001b[0m 2017-09-20T14:09:46.241923Z 0 [Warning] 'db' entry 'performance_schema mysql.session@localhost' ignored in --skip-name-resolve mode.\n",
      "\u001b[33mmysql_1      |\u001b[0m 2017-09-20T14:09:46.242134Z 0 [Warning] 'db' entry 'sys mysql.sys@localhost' ignored in --skip-name-resolve mode.\n",
      "\u001b[33mmysql_1      |\u001b[0m 2017-09-20T14:09:46.242550Z 0 [Warning] 'proxies_priv' entry '@ root@localhost' ignored in --skip-name-resolve mode.\n",
      "\u001b[33mmysql_1      |\u001b[0m 2017-09-20T14:09:46.248505Z 0 [Warning] 'tables_priv' entry 'user mysql.session@localhost' ignored in --skip-name-resolve mode.\n",
      "\u001b[33mmysql_1      |\u001b[0m 2017-09-20T14:09:46.248893Z 0 [Warning] 'tables_priv' entry 'sys_config mysql.sys@localhost' ignored in --skip-name-resolve mode.\n",
      "\u001b[33mmysql_1      |\u001b[0m 2017-09-20T14:09:46.254914Z 0 [Note] Event Scheduler: Loaded 0 events\n",
      "\u001b[33mmysql_1      |\u001b[0m 2017-09-20T14:09:46.255318Z 0 [Note] mysqld: ready for connections.\n",
      "\u001b[33mmysql_1      |\u001b[0m Version: '5.7.19'  socket: '/var/run/mysqld/mysqld.sock'  port: 3306  MySQL Community Server (GPL)\n",
      "\u001b[33mmysql_1      |\u001b[0m 2017-09-20T14:09:46.255407Z 0 [Note] Executing 'SELECT * FROM INFORMATION_SCHEMA.TABLES;' to get a list of tables using the deprecated partition engine. You may use the startup option '--disable-partition-engine-check' to skip this check. \n",
      "\u001b[33mmysql_1      |\u001b[0m 2017-09-20T14:09:46.255435Z 0 [Note] Beginning of list of non-natively partitioned tables\n",
      "\u001b[33mmysql_1      |\u001b[0m 2017-09-20T14:09:46.263792Z 0 [Note] End of list of non-natively partitioned tables\n",
      "\u001b[33mmysql_1      |\u001b[0m 2017-09-20T21:10:15.463439Z 0 [Warning] TIMESTAMP with implicit DEFAULT value is deprecated. Please use --explicit_defaults_for_timestamp server option (see documentation for more details).\n",
      "\u001b[33mmysql_1      |\u001b[0m 2017-09-20T21:10:15.466664Z 0 [Note] mysqld (mysqld 5.7.19) starting as process 1 ...\n",
      "\u001b[33mmysql_1      |\u001b[0m 2017-09-20T21:10:15.480978Z 0 [Note] InnoDB: PUNCH HOLE support available\n",
      "\u001b[33mmysql_1      |\u001b[0m 2017-09-20T21:10:15.481104Z 0 [Note] InnoDB: Mutexes and rw_locks use GCC atomic builtins\n",
      "\u001b[33mmysql_1      |\u001b[0m 2017-09-20T21:10:15.481131Z 0 [Note] InnoDB: Uses event mutexes\n",
      "\u001b[33mmysql_1      |\u001b[0m 2017-09-20T21:10:15.481418Z 0 [Note] InnoDB: GCC builtin __atomic_thread_fence() is used for memory barrier\n",
      "\u001b[33mmysql_1      |\u001b[0m 2017-09-20T21:10:15.481524Z 0 [Note] InnoDB: Compressed tables use zlib 1.2.3\n",
      "\u001b[33mmysql_1      |\u001b[0m 2017-09-20T21:10:15.486613Z 0 [Note] InnoDB: Using Linux native AIO\n",
      "\u001b[33mmysql_1      |\u001b[0m 2017-09-20T21:10:15.495157Z 0 [Note] InnoDB: Number of pools: 1\n",
      "\u001b[33mmysql_1      |\u001b[0m 2017-09-20T21:10:15.501437Z 0 [Note] InnoDB: Using CPU crc32 instructions\n",
      "\u001b[33mmysql_1      |\u001b[0m 2017-09-20T21:10:15.505376Z 0 [Note] InnoDB: Initializing buffer pool, total size = 128M, instances = 1, chunk size = 128M\n",
      "\u001b[33mmysql_1      |\u001b[0m 2017-09-20T21:10:15.543361Z 0 [Note] InnoDB: Completed initialization of buffer pool\n",
      "\u001b[33mmysql_1      |\u001b[0m 2017-09-20T21:10:15.567262Z 0 [Note] InnoDB: If the mysqld execution user is authorized, page cleaner thread priority can be changed. See the man page of setpriority().\n",
      "\u001b[33mmysql_1      |\u001b[0m 2017-09-20T21:10:15.599389Z 0 [Note] InnoDB: Highest supported file format is Barracuda.\n",
      "\u001b[33mmysql_1      |\u001b[0m 2017-09-20T21:10:15.608539Z 0 [Note] InnoDB: Log scan progressed past the checkpoint lsn 12144313\n",
      "\u001b[33mmysql_1      |\u001b[0m 2017-09-20T21:10:15.608759Z 0 [Note] InnoDB: Doing recovery: scanned up to log sequence number 12144322\n",
      "\u001b[33mmysql_1      |\u001b[0m 2017-09-20T21:10:15.608934Z 0 [Note] InnoDB: Database was not shutdown normally!\n",
      "\u001b[33mmysql_1      |\u001b[0m 2017-09-20T21:10:15.608951Z 0 [Note] InnoDB: Starting crash recovery.\n",
      "\u001b[33mmysql_1      |\u001b[0m 2017-09-20T21:10:15.961927Z 0 [Note] InnoDB: Removed temporary tablespace data file: \"ibtmp1\"\n",
      "\u001b[33mmysql_1      |\u001b[0m 2017-09-20T21:10:15.961968Z 0 [Note] InnoDB: Creating shared tablespace for temporary tables\n",
      "\u001b[33mmysql_1      |\u001b[0m 2017-09-20T21:10:15.962312Z 0 [Note] InnoDB: Setting file './ibtmp1' size to 12 MB. Physically writing the file full; Please wait ...\n",
      "\u001b[33mmysql_1      |\u001b[0m 2017-09-20T21:10:16.071584Z 0 [Note] InnoDB: File './ibtmp1' size is now 12 MB.\n",
      "\u001b[33mmysql_1      |\u001b[0m 2017-09-20T21:10:16.073324Z 0 [Note] InnoDB: 96 redo rollback segment(s) found. 96 redo rollback segment(s) are active.\n",
      "\u001b[33mmysql_1      |\u001b[0m 2017-09-20T21:10:16.073355Z 0 [Note] InnoDB: 32 non-redo rollback segment(s) are active.\n",
      "\u001b[33mmysql_1      |\u001b[0m 2017-09-20T21:10:16.074001Z 0 [Note] InnoDB: Waiting for purge to start\n",
      "\u001b[33mmysql_1      |\u001b[0m 2017-09-20T21:10:16.127912Z 0 [Note] InnoDB: 5.7.19 started; log sequence number 12144322\n",
      "\u001b[33mmysql_1      |\u001b[0m 2017-09-20T21:10:16.128359Z 0 [Note] Plugin 'FEDERATED' is disabled.\n",
      "\u001b[33mmysql_1      |\u001b[0m 2017-09-20T21:10:16.128760Z 0 [Note] InnoDB: Loading buffer pool(s) from /var/lib/mysql/ib_buffer_pool\n",
      "\u001b[33mmysql_1      |\u001b[0m 2017-09-20T21:10:16.155594Z 0 [Note] Found ca.pem, server-cert.pem and server-key.pem in data directory. Trying to enable SSL support using them.\n",
      "\u001b[33mmysql_1      |\u001b[0m 2017-09-20T21:10:16.158777Z 0 [Warning] CA certificate ca.pem is self signed.\n",
      "\u001b[33mmysql_1      |\u001b[0m 2017-09-20T21:10:16.169372Z 0 [Note] Server hostname (bind-address): '*'; port: 3306\n",
      "\u001b[33mmysql_1      |\u001b[0m 2017-09-20T21:10:16.169433Z 0 [Note] IPv6 is available.\n",
      "\u001b[33mmysql_1      |\u001b[0m 2017-09-20T21:10:16.169453Z 0 [Note]   - '::' resolves to '::';\n",
      "\u001b[33mmysql_1      |\u001b[0m 2017-09-20T21:10:16.169477Z 0 [Note] Server socket created on IP: '::'.\n",
      "\u001b[33mmysql_1      |\u001b[0m 2017-09-20T21:10:16.196876Z 0 [Note] InnoDB: Buffer pool(s) load completed at 170920 21:10:16\n",
      "\u001b[33mmysql_1      |\u001b[0m 2017-09-20T21:10:16.201403Z 0 [Warning] 'user' entry 'root@localhost' ignored in --skip-name-resolve mode.\n",
      "\u001b[33mmysql_1      |\u001b[0m 2017-09-20T21:10:16.201559Z 0 [Warning] 'user' entry 'mysql.sys@localhost' ignored in --skip-name-resolve mode.\n",
      "\u001b[33mmysql_1      |\u001b[0m 2017-09-20T21:10:16.202095Z 0 [Warning] 'db' entry 'performance_schema mysql.session@localhost' ignored in --skip-name-resolve mode.\n",
      "\u001b[33mmysql_1      |\u001b[0m 2017-09-20T21:10:16.202118Z 0 [Warning] 'db' entry 'sys mysql.sys@localhost' ignored in --skip-name-resolve mode.\n",
      "\u001b[33mmysql_1      |\u001b[0m 2017-09-20T21:10:16.202399Z 0 [Warning] 'proxies_priv' entry '@ root@localhost' ignored in --skip-name-resolve mode.\n",
      "\u001b[33mmysql_1      |\u001b[0m 2017-09-20T21:10:16.213842Z 0 [Warning] 'tables_priv' entry 'user mysql.session@localhost' ignored in --skip-name-resolve mode.\n",
      "\u001b[33mmysql_1      |\u001b[0m 2017-09-20T21:10:16.213878Z 0 [Warning] 'tables_priv' entry 'sys_config mysql.sys@localhost' ignored in --skip-name-resolve mode.\n",
      "\u001b[33mmysql_1      |\u001b[0m 2017-09-20T21:10:16.249155Z 0 [Note] Event Scheduler: Loaded 0 events\n",
      "\u001b[33mmysql_1      |\u001b[0m 2017-09-20T21:10:16.249882Z 0 [Note] mysqld: ready for connections.\n",
      "\u001b[33mmysql_1      |\u001b[0m Version: '5.7.19'  socket: '/var/run/mysqld/mysqld.sock'  port: 3306  MySQL Community Server (GPL)\n",
      "\u001b[33mmysql_1      |\u001b[0m 2017-09-20T21:10:16.249921Z 0 [Note] Executing 'SELECT * FROM INFORMATION_SCHEMA.TABLES;' to get a list of tables using the deprecated partition engine. You may use the startup option '--disable-partition-engine-check' to skip this check. \n",
      "\u001b[33mmysql_1      |\u001b[0m 2017-09-20T21:10:16.249935Z 0 [Note] Beginning of list of non-natively partitioned tables\n",
      "\u001b[33mmysql_1      |\u001b[0m 2017-09-20T21:10:16.306662Z 0 [Note] End of list of non-natively partitioned tables\n"
     ]
    },
    {
     "name": "stdout",
     "output_type": "stream",
     "text": [
      "\u001b[36mwordpress_1  |\u001b[0m 172.27.0.1 - - [20/Sep/2017:21:10:42 +0000] \"GET / HTTP/1.1\" 302 379 \"http://localhost:8888/notebooks/Documents/Universidad/EIP2017/eip-virt-docker/03%20-%20Contenedores%20en%20Desarrollo.ipynb\" \"Mozilla/5.0 (Macintosh; Intel Mac OS X 10_12_6) AppleWebKit/537.36 (KHTML, like Gecko) Chrome/60.0.3112.113 Safari/537.36\"\n",
      "\u001b[36mwordpress_1  |\u001b[0m 172.27.0.1 - - [20/Sep/2017:21:10:42 +0000] \"GET /wp-admin/install.php HTTP/1.1\" 200 4226 \"http://localhost:8888/notebooks/Documents/Universidad/EIP2017/eip-virt-docker/03%20-%20Contenedores%20en%20Desarrollo.ipynb\" \"Mozilla/5.0 (Macintosh; Intel Mac OS X 10_12_6) AppleWebKit/537.36 (KHTML, like Gecko) Chrome/60.0.3112.113 Safari/537.36\"\n",
      "\u001b[36mwordpress_1  |\u001b[0m 172.27.0.1 - - [20/Sep/2017:21:10:44 +0000] \"GET /wp-includes/css/buttons.min.css?ver=4.8.1 HTTP/1.1\" 200 1887 \"http://localhost:8080/wp-admin/install.php\" \"Mozilla/5.0 (Macintosh; Intel Mac OS X 10_12_6) AppleWebKit/537.36 (KHTML, like Gecko) Chrome/60.0.3112.113 Safari/537.36\"\n",
      "\u001b[36mwordpress_1  |\u001b[0m 172.27.0.1 - - [20/Sep/2017:21:10:44 +0000] \"GET /wp-includes/css/dashicons.min.css?ver=4.8.1 HTTP/1.1\" 200 28951 \"http://localhost:8080/wp-admin/install.php\" \"Mozilla/5.0 (Macintosh; Intel Mac OS X 10_12_6) AppleWebKit/537.36 (KHTML, like Gecko) Chrome/60.0.3112.113 Safari/537.36\"\n",
      "\u001b[36mwordpress_1  |\u001b[0m 172.27.0.1 - - [20/Sep/2017:21:10:44 +0000] \"GET /wp-admin/css/install.min.css?ver=4.8.1 HTTP/1.1\" 200 2329 \"http://localhost:8080/wp-admin/install.php\" \"Mozilla/5.0 (Macintosh; Intel Mac OS X 10_12_6) AppleWebKit/537.36 (KHTML, like Gecko) Chrome/60.0.3112.113 Safari/537.36\"\n",
      "\u001b[36mwordpress_1  |\u001b[0m 172.27.0.1 - - [20/Sep/2017:21:10:44 +0000] \"GET /wp-admin/js/language-chooser.min.js?ver=4.8.1 HTTP/1.1\" 200 590 \"http://localhost:8080/wp-admin/install.php\" \"Mozilla/5.0 (Macintosh; Intel Mac OS X 10_12_6) AppleWebKit/537.36 (KHTML, like Gecko) Chrome/60.0.3112.113 Safari/537.36\"\n",
      "\u001b[36mwordpress_1  |\u001b[0m 172.27.0.1 - - [20/Sep/2017:21:10:45 +0000] \"GET /wp-admin/images/wordpress-logo.svg?ver=20131107 HTTP/1.1\" 200 1810 \"http://localhost:8080/wp-admin/css/install.min.css?ver=4.8.1\" \"Mozilla/5.0 (Macintosh; Intel Mac OS X 10_12_6) AppleWebKit/537.36 (KHTML, like Gecko) Chrome/60.0.3112.113 Safari/537.36\"\n",
      "\u001b[36mwordpress_1  |\u001b[0m 172.27.0.1 - - [20/Sep/2017:21:10:45 +0000] \"GET /wp-admin/images/spinner.gif HTTP/1.1\" 200 4448 \"http://localhost:8080/wp-admin/css/install.min.css?ver=4.8.1\" \"Mozilla/5.0 (Macintosh; Intel Mac OS X 10_12_6) AppleWebKit/537.36 (KHTML, like Gecko) Chrome/60.0.3112.113 Safari/537.36\"\n",
      "\u001b[36mwordpress_1  |\u001b[0m 172.27.0.1 - - [20/Sep/2017:21:10:46 +0000] \"GET /favicon.ico HTTP/1.1\" 200 228 \"http://localhost:8080/wp-admin/install.php\" \"Mozilla/5.0 (Macintosh; Intel Mac OS X 10_12_6) AppleWebKit/537.36 (KHTML, like Gecko) Chrome/60.0.3112.113 Safari/537.36\"\n",
      "^C\n",
      "Gracefully stopping... (press Ctrl+C again to force)\n",
      "Stopping composewordpress_mysql_1 ... \n",
      "Stopping composewordpress_wordpress_1 ... \n"
     ]
    }
   ],
   "source": [
    "!cd compose_wordpress && docker-compose up"
   ]
  },
  {
   "cell_type": "markdown",
   "metadata": {},
   "source": [
    "# Accediendo a http://localhost:8080\n",
    "![](images/wp.png)"
   ]
  },
  {
   "cell_type": "markdown",
   "metadata": {},
   "source": [
    "# Qué está sucediendo?\n",
    "<img src=\"images/dibujo.svg\">"
   ]
  },
  {
   "cell_type": "markdown",
   "metadata": {},
   "source": [
    "# ¿Que sucedió?\n",
    "* Se crearon las imágenes:\n",
    "\n",
    "    `docker images`\n",
    "* Se crearon los contenedores:\n",
    "\n",
    "    `docker ps`\n",
    "* Se creó una red\n",
    "* Se expusieron los puertos\n"
   ]
  },
  {
   "cell_type": "code",
   "execution_count": 12,
   "metadata": {},
   "outputs": [
    {
     "name": "stdout",
     "output_type": "stream",
     "text": [
      "NETWORK ID          NAME                             DRIVER              SCOPE\r\n",
      "0d007a2ab699        alpinenovnc_x11                  bridge              local\r\n",
      "a4a43114cbc4        bridge                           bridge              local\r\n",
      "3eab10ed6ac1        composeflask_default             bridge              local\r\n",
      "8ada97acf5da        composewordpress_default         bridge              local\r\n",
      "57d54b705ec8        coreemu_default                  bridge              local\r\n",
      "77b9250aaac3        djangodocker_default             bridge              local\r\n",
      "ff02eb41e98c        fixturerobots_default            bridge              local\r\n",
      "3cf8a5d2ac28        flaskcelerydockerscale_default   bridge              local\r\n",
      "2ad5dd1aa9c1        host                             host                local\r\n",
      "aab12fe2f8d8        mqttrestcomp_default             bridge              local\r\n",
      "ae72e1a98f95        mqttvsrestpapaertest_default     bridge              local\r\n",
      "7702a7a28bf4        noderedpython_default            bridge              local\r\n",
      "58d70d4ebb01        none                             null                local\r\n",
      "46c79b8797fe        rtd_test_tp2                     bridge              local\r\n",
      "1eb129c14117        txscada_default                  bridge              local\r\n"
     ]
    }
   ],
   "source": [
    "!docker network ls"
   ]
  },
  {
   "cell_type": "markdown",
   "metadata": {},
   "source": [
    "# Un ejmplo un [poco más completo](https://docs.docker.com/compose/wordpress/#define-the-project)\n",
    "\n",
    "```yaml\n",
    "version: '3'\n",
    "\n",
    "services:\n",
    "   db:\n",
    "     image: mysql:5.7\n",
    "     volumes:\n",
    "       - db_data:/var/lib/mysql\n",
    "     restart: always\n",
    "     environment:\n",
    "       MYSQL_ROOT_PASSWORD: somewordpress\n",
    "       MYSQL_DATABASE: wordpress\n",
    "       MYSQL_USER: wordpress\n",
    "       MYSQL_PASSWORD: wordpress\n",
    "\n",
    "   wordpress:\n",
    "     depends_on:\n",
    "       - db\n",
    "     image: wordpress:latest\n",
    "     ports:\n",
    "       - \"8000:80\"\n",
    "     restart: always\n",
    "     environment:\n",
    "       WORDPRESS_DB_HOST: db:3306\n",
    "       WORDPRESS_DB_USER: wordpress\n",
    "       WORDPRESS_DB_PASSWORD: wordpress\n",
    "volumes:\n",
    "    db_data:\n",
    "```"
   ]
  },
  {
   "cell_type": "markdown",
   "metadata": {},
   "source": [
    "# Desarrollando con Docker\n",
    "* Muchos frameworks tienen servidores que *recompilan* nuestro códigos con los cambios que hacemos.\n",
    "* Para esto es útil utilizar un VOLUME para comparir el código fuente.\n",
    "* Este enfoque requiere tener dos archivos docker-compose.yml:\n",
    "    * uno para desarrollo con el VOLUME\n",
    "    * uno para producción con un COPY"
   ]
  },
  {
   "cell_type": "markdown",
   "metadata": {},
   "source": [
    "## Ejemplo"
   ]
  },
  {
   "cell_type": "code",
   "execution_count": 14,
   "metadata": {
    "collapsed": true
   },
   "outputs": [],
   "source": [
    "%%bash\n",
    "mkdir -p compose_flask\n",
    "mkdir -p compose_flask/code"
   ]
  },
  {
   "cell_type": "code",
   "execution_count": 15,
   "metadata": {},
   "outputs": [
    {
     "name": "stdout",
     "output_type": "stream",
     "text": [
      "Overwriting compose_flask/code/app.py\n"
     ]
    }
   ],
   "source": [
    "%%writefile compose_flask/code/app.py\n",
    "\n",
    "from flask import Flask\n",
    "app = Flask(__name__)\n",
    "@app.route(\"/\")\n",
    "def index():\n",
    "    return \"Desde compose!!!\"\n",
    "\n",
    "app.run(\n",
    "    debug=True, \n",
    "    port=3000, \n",
    "    # Si no ponemos nada, solo escucha en 127.0.0.1\n",
    "    host='0'\n",
    ")"
   ]
  },
  {
   "cell_type": "code",
   "execution_count": 56,
   "metadata": {},
   "outputs": [
    {
     "name": "stdout",
     "output_type": "stream",
     "text": [
      "Overwriting compose_flask/Dockerfile\n"
     ]
    }
   ],
   "source": [
    "%%writefile compose_flask/Dockerfile\n",
    "\n",
    "FROM python\n",
    "RUN pip install Flask\n",
    "COPY ./code /code\n",
    "#VOLUME /code\n",
    "CMD [\"python\", \"/code/app.py\"]"
   ]
  },
  {
   "cell_type": "code",
   "execution_count": 11,
   "metadata": {},
   "outputs": [
    {
     "name": "stdout",
     "output_type": "stream",
     "text": [
      "Overwriting compose_flask/docker-compose.yml\n"
     ]
    }
   ],
   "source": [
    "%%writefile compose_flask/docker-compose.yml\n",
    "version: '3'\n",
    "    \n",
    "services:\n",
    "    web:\n",
    "        build:\n",
    "            context: .\n",
    "        ports:\n",
    "            - 3000:3000"
   ]
  },
  {
   "cell_type": "code",
   "execution_count": 13,
   "metadata": {},
   "outputs": [
    {
     "name": "stdout",
     "output_type": "stream",
     "text": [
      "Removing composeflask_web_1 ... \n",
      "\u001b[1BRemoving network composeflask_default\u001b[0m\n",
      "\u001b[0mCreating network \"composeflask_default\" with the default driver\n",
      "Creating composeflask_web_1 ... \n",
      "Creating composeflask_web_1\n",
      "\u001b[1BAttaching to composeflask_web_12mdone\u001b[0m\n",
      "\u001b[36mweb_1  |\u001b[0m python: can't open file '/code/app.py': [Errno 2] No such file or directory\n",
      "\u001b[36mcomposeflask_web_1 exited with code 2\n",
      "\u001b[0m\u001b[0m"
     ]
    }
   ],
   "source": [
    "!cd compose_flask && docker-compose down && docker-compose up"
   ]
  },
  {
   "cell_type": "markdown",
   "metadata": {},
   "source": [
    "### En produccción sería..."
   ]
  },
  {
   "cell_type": "code",
   "execution_count": 14,
   "metadata": {},
   "outputs": [
    {
     "name": "stdout",
     "output_type": "stream",
     "text": [
      "Overwriting compose_flask/Dockerfile\n"
     ]
    }
   ],
   "source": [
    "%%writefile compose_flask/Dockerfile\n",
    "\n",
    "FROM python\n",
    "RUN pip install Flask\n",
    "COPY ./code /code  #VOLUME /code\n",
    "CMD [\"python\", \"/code/app.py\"]"
   ]
  },
  {
   "cell_type": "code",
   "execution_count": 5,
   "metadata": {},
   "outputs": [
    {
     "name": "stdout",
     "output_type": "stream",
     "text": [
      "Stopping composeflask_web_1 ... \n",
      "\u001b[1BRemoving composeflask_web_1 ... mdone\u001b[0m\n",
      "\u001b[1BRemoving network composeflask_default\u001b[0m\n",
      "\u001b[0m"
     ]
    }
   ],
   "source": [
    "!cd compose_flask/ && docker-compose down"
   ]
  },
  {
   "cell_type": "markdown",
   "metadata": {},
   "source": [
    "## Construyendo si es necesario y mandando al *fondo*\n",
    "```\n",
    "docker-compose up --build -d \n",
    "```"
   ]
  },
  {
   "cell_type": "markdown",
   "metadata": {},
   "source": [
    "### Cómo vemos la salida?\n",
    "```\n",
    "docker-compose logs\n",
    "```"
   ]
  },
  {
   "cell_type": "markdown",
   "metadata": {},
   "source": [
    "### Cómo creamos una terminal\n",
    "```\n",
    "docker-compose exec web\n",
    "```\n",
    "(notar que no hace falta el -ti)"
   ]
  },
  {
   "cell_type": "markdown",
   "metadata": {},
   "source": [
    "### Como bajamos la aplicación?\n",
    "```\n",
    "docker-compose down\n",
    "```"
   ]
  },
  {
   "cell_type": "markdown",
   "metadata": {},
   "source": [
    "## ¿Qué sucede si editamos el código?\n",
    "\n",
    "Acá lanzamos un editor de texto o IDE de nuestra preferencia, en mi caso utilizaré [VS Code](https://code.visualstudio.com/#alt-downloads)\n",
    "![](images/vscode.png)\n"
   ]
  },
  {
   "cell_type": "code",
   "execution_count": 67,
   "metadata": {
    "collapsed": true
   },
   "outputs": [],
   "source": [
    "!code compose_flask/"
   ]
  },
  {
   "cell_type": "markdown",
   "metadata": {
    "collapsed": true
   },
   "source": [
    "# Ejercicios"
   ]
  },
  {
   "cell_type": "code",
   "execution_count": null,
   "metadata": {
    "collapsed": true
   },
   "outputs": [],
   "source": []
  }
 ],
 "metadata": {
  "kernelspec": {
   "display_name": "Python 3",
   "language": "python",
   "name": "python3"
  },
  "language_info": {
   "codemirror_mode": {
    "name": "ipython",
    "version": 3
   },
   "file_extension": ".py",
   "mimetype": "text/x-python",
   "name": "python",
   "nbconvert_exporter": "python",
   "pygments_lexer": "ipython3",
   "version": "3.6.0"
  },
  "varInspector": {
   "cols": {
    "lenName": 16,
    "lenType": 16,
    "lenVar": 40
   },
   "kernels_config": {
    "python": {
     "delete_cmd_postfix": "",
     "delete_cmd_prefix": "del ",
     "library": "var_list.py",
     "varRefreshCmd": "print(var_dic_list())"
    },
    "r": {
     "delete_cmd_postfix": ") ",
     "delete_cmd_prefix": "rm(",
     "library": "var_list.r",
     "varRefreshCmd": "cat(var_dic_list()) "
    }
   },
   "types_to_exclude": [
    "module",
    "function",
    "builtin_function_or_method",
    "instance",
    "_Feature"
   ],
   "window_display": false
  }
 },
 "nbformat": 4,
 "nbformat_minor": 2
}
