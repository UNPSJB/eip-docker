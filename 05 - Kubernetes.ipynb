{
 "cells": [
  {
   "cell_type": "markdown",
   "metadata": {},
   "source": [
    "# Kubernetes\n",
    "\n",
    "![](./images/flower.png)"
   ]
  },
  {
   "cell_type": "markdown",
   "metadata": {
    "collapsed": true
   },
   "source": [
    "* Kubernetes es una pataforma para despliegue automático\n",
    "* escalamiento y\n",
    "* manejo de aplicaciones en contenedores"
   ]
  },
  {
   "cell_type": "markdown",
   "metadata": {},
   "source": [
    "## Conceptos\n",
    "\n",
    "* Kubernetes provee una API para definir un estado deseado de un Cluster\n",
    "* Define aplicaciones y trabajos\n",
    "* qué imágenes utilizar \n",
    "* cantidad de réplicas \n",
    "* qué recursos de persistencia y que redes utilizar\n",
    "\n",
    "Utilizando la API de Kubernetes, típicamente utilizando la interfase de línea de comandos (CLI), **`kubectl`** o haciendo peticiones directamente al cluster."
   ]
  },
  {
   "cell_type": "markdown",
   "metadata": {},
   "source": [
    "Una vez definido el estado deseado, el Plano de Control de Kubernetes trabaja para hacer que el estado actual coincida con el estado deseado.\n",
    "\n",
    "Para esto Kubernetes realiza tareas automáticas como:\n",
    "    \n",
    "* arrnque de contenedores\n",
    "* cambio de cantidad de instancias\n",
    "\n",
    "El Plano de control de Kubernetes consiste en una colección de procesos que se ejecutan en el cluster:\n",
    "* **Kubernetes Master** una colección de procesos que se ejecutan en un único nodo, desingado como nodo maestro. \n",
    "    * **kube-apiserver**\n",
    "    * **kube-controller-manager**\n",
    "    * **kube-scheduler**\n",
    "* Cada nodo no maestro ejectua los sigueintes procesos:\n",
    "    * **kubelet**, que se comunica con el Kubernet Master\n",
    "    * **kube-proxy**, un proxy de red que refleja los servicios de Kubernet en cada nodo.\n"
   ]
  },
  {
   "cell_type": "markdown",
   "metadata": {},
   "source": [
    "# Objetos en Kubernetes"
   ]
  },
  {
   "cell_type": "markdown",
   "metadata": {},
   "source": [
    "## Pods\n",
    "\n",
    "Un pod es un grupo de uno o más contenedores (como el caso de Docker containers), con red/disco comaprtido, y una especificación de como correr los contenedores. Los contenidos de un pod siempre están co-alojados y co-programados (en el tipo), y se ejecutan en un contexto compartido. Un pod modela un **host lógico** para una aplicación- contiene una cantidad de contenedores que están altamente acoplados — que en la era pre contenedores se hubiésen ejecutado en la misma máquina física o virtual.\n"
   ]
  },
  {
   "cell_type": "markdown",
   "metadata": {},
   "source": [
    "## Usos\n",
    "\n",
    "Los Pods pueden ser usados para al albergar aplicaciones con stacks verticales (e.g. LAMP), pero su aplicación principal es ejecutar programas co-alojados, co-majeados como:\n",
    "\n",
    "* Sistemas de gestión de Contenido, procesadores de archivos, administradores de caché local, etc.\n",
    "* Servicios de respaldo de bitácora, compresión, rotación e instantáneas, etc.\n",
    "* Detectores de cambios, seguidores de bitácora, adaptadores de monitoreo, publicadores de eventos, etc.\n",
    "* Proxies, bridges, y adaptadores.\n",
    "* Controladores, administradores, configuradores y acutalizadores\n",
    "\n",
    "Los Pods individuales no están pensados en principio para ejecutar múltiples instancias de la misma aplicación.\n",
    "\n"
   ]
  },
  {
   "cell_type": "markdown",
   "metadata": {},
   "source": [
    "![](./images/pod.svg)"
   ]
  },
  {
   "cell_type": "markdown",
   "metadata": {},
   "source": [
    "## Services\n",
    "\n",
    "La vida de los Pods es finita. Son inciados y cuando mueren no son reiniciados. \n",
    "ReplicationControllers en particular cerean y destruyen Pods dinámicamente \n",
    "(e.g. cuando hay escalamiento hacia arriba o abajo o cuando se hacen actualizaciones).\n",
    "Mientras que cada Pod tine su dirección IP address, estas no son estables en el tiempo. \n",
    "Esto genera un problema cuando un Pod provee funcionalidad a otro Pod dentro del cluster \n",
    "\n",
    "Como se conectan estos pods?  **Services**!"
   ]
  },
  {
   "cell_type": "markdown",
   "metadata": {},
   "source": [
    "## Definiendo un servicio\n",
    "```yaml\n",
    "kind: Service\n",
    "apiVersion: v1\n",
    "metadata:\n",
    "  name: my-service\n",
    "spec:\n",
    "  selector:\n",
    "    app: MyApp\n",
    "  ports:\n",
    "  - protocol: TCP\n",
    "    port: 80\n",
    "    targetPort: 9376\n",
    "```"
   ]
  },
  {
   "cell_type": "markdown",
   "metadata": {},
   "source": [
    "[Continúa en documetnación oficial...](https://kubernetes.io/docs/concepts/)"
   ]
  },
  {
   "cell_type": "code",
   "execution_count": null,
   "metadata": {
    "collapsed": true
   },
   "outputs": [],
   "source": []
  }
 ],
 "metadata": {
  "kernelspec": {
   "display_name": "Python 3",
   "language": "python",
   "name": "python3"
  },
  "language_info": {
   "codemirror_mode": {
    "name": "ipython",
    "version": 3
   },
   "file_extension": ".py",
   "mimetype": "text/x-python",
   "name": "python",
   "nbconvert_exporter": "python",
   "pygments_lexer": "ipython3",
   "version": "3.6.0"
  },
  "varInspector": {
   "cols": {
    "lenName": 16,
    "lenType": 16,
    "lenVar": 40
   },
   "kernels_config": {
    "python": {
     "delete_cmd_postfix": "",
     "delete_cmd_prefix": "del ",
     "library": "var_list.py",
     "varRefreshCmd": "print(var_dic_list())"
    },
    "r": {
     "delete_cmd_postfix": ") ",
     "delete_cmd_prefix": "rm(",
     "library": "var_list.r",
     "varRefreshCmd": "cat(var_dic_list()) "
    }
   },
   "types_to_exclude": [
    "module",
    "function",
    "builtin_function_or_method",
    "instance",
    "_Feature"
   ],
   "window_display": false
  }
 },
 "nbformat": 4,
 "nbformat_minor": 2
}
