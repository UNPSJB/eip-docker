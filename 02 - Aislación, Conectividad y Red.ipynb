{
 "cells": [
  {
   "cell_type": "markdown",
   "metadata": {},
   "source": [
    "# Características\n",
    "* Aislación  de procesos\n",
    "* Aislación de sistema de archivos\n",
    "* Aislación de redes\n",
    "* Control de cambios\n",
    "* Compartición\n",
    "* Administración de proceos\n",
    "* Manejo de imágenes\n"
   ]
  },
  {
   "cell_type": "markdown",
   "metadata": {},
   "source": [
    "# Arquitectura \n",
    "\n",
    "Docker se base en \n",
    "* Control Groups (cgroups)\n",
    "* Filesystem \n",
    "* Namespace\n",
    "* Networking"
   ]
  },
  {
   "cell_type": "markdown",
   "metadata": {},
   "source": [
    "# CGroups\n",
    "* CPU\n",
    "* Memoria \n",
    "* E/S"
   ]
  },
  {
   "cell_type": "markdown",
   "metadata": {},
   "source": [
    "# Namespaces\n",
    "Asilación de\n",
    "* mnt (puntos de montaje)\n",
    "* pid (procesos)\n",
    "* net (pila de red)\n",
    "* ipc (comunicación entre procesos)\n",
    "* uts (nombres de host)\n",
    "* uids (identificadores de usuario)"
   ]
  },
  {
   "cell_type": "markdown",
   "metadata": {},
   "source": [
    "# Redes\n",
    "Docker permite crear redes, cada contedor tiene una IP dentro de esta red y está conectada a un Bridge con la interfase de neustro sistema operativo.\n",
    "![](images/dockr-net.png)"
   ]
  },
  {
   "cell_type": "markdown",
   "metadata": {
    "collapsed": true
   },
   "source": [
    "# Contectividad\n",
    "\n",
    "1. Cuando creamos un conenedor, este se agrega a una red.\n",
    "2. Las redes pueden verse con `docker networks`."
   ]
  },
  {
   "cell_type": "markdown",
   "metadata": {},
   "source": [
    "## Veamos que sucede cuando ejecutamos un contenedor"
   ]
  },
  {
   "cell_type": "code",
   "execution_count": 11,
   "metadata": {},
   "outputs": [
    {
     "name": "stdout",
     "output_type": "stream",
     "text": [
      "1: lo: <LOOPBACK,UP,LOWER_UP> mtu 65536 qdisc noqueue state UNKNOWN group default qlen 1\n",
      "    link/loopback 00:00:00:00:00:00 brd 00:00:00:00:00:00\n",
      "    inet 127.0.0.1/8 scope host lo\n",
      "       valid_lft forever preferred_lft forever\n",
      "2: tunl0@NONE: <NOARP> mtu 1480 qdisc noop state DOWN group default qlen 1\n",
      "    link/ipip 0.0.0.0 brd 0.0.0.0\n",
      "3: gre0@NONE: <NOARP> mtu 1476 qdisc noop state DOWN group default qlen 1\n",
      "    link/gre 0.0.0.0 brd 0.0.0.0\n",
      "4: gretap0@NONE: <BROADCAST,MULTICAST> mtu 1462 qdisc noop state DOWN group default qlen 1000\n",
      "    link/ether 00:00:00:00:00:00 brd ff:ff:ff:ff:ff:ff\n",
      "5: ip_vti0@NONE: <NOARP> mtu 1332 qdisc noop state DOWN group default qlen 1\n",
      "    link/ipip 0.0.0.0 brd 0.0.0.0\n",
      "6: ip6_vti0@NONE: <NOARP> mtu 1500 qdisc noop state DOWN group default qlen 1\n",
      "    link/tunnel6 :: brd ::\n",
      "7: sit0@NONE: <NOARP> mtu 1480 qdisc noop state DOWN group default qlen 1\n",
      "    link/sit 0.0.0.0 brd 0.0.0.0\n",
      "8: ip6tnl0@NONE: <NOARP> mtu 1452 qdisc noop state DOWN group default qlen 1\n",
      "    link/tunnel6 :: brd ::\n",
      "9: ip6gre0@NONE: <NOARP> mtu 1448 qdisc noop state DOWN group default qlen 1\n",
      "    link/gre6 00:00:00:00:00:00:00:00:00:00:00:00:00:00:00:00 brd 00:00:00:00:00:00:00:00:00:00:00:00:00:00:00:00\n",
      "91: eth0@if92: <BROADCAST,MULTICAST,UP,LOWER_UP> mtu 1500 qdisc noqueue state UP group default \n",
      "    link/ether 02:42:ac:11:00:05 brd ff:ff:ff:ff:ff:ff\n",
      "    inet 172.17.0.5/16 scope global eth0\n",
      "       valid_lft forever preferred_lft forever\n"
     ]
    }
   ],
   "source": [
    "%%bash \n",
    "docker run --rm debian ip address"
   ]
  },
  {
   "cell_type": "markdown",
   "metadata": {
    "collapsed": true
   },
   "source": [
    "# Conectividad"
   ]
  },
  {
   "cell_type": "markdown",
   "metadata": {},
   "source": [
    "* Red modo host\n",
    "* Red modo bridge"
   ]
  },
  {
   "cell_type": "code",
   "execution_count": 4,
   "metadata": {},
   "outputs": [
    {
     "name": "stderr",
     "output_type": "stream",
     "text": [
      "\n",
      "Usage:\tdocker network COMMAND\n",
      "\n",
      "Manage networks\n",
      "\n",
      "Options:\n",
      "      --help   Print usage\n",
      "\n",
      "Commands:\n",
      "  connect     Connect a container to a network\n",
      "  create      Create a network\n",
      "  disconnect  Disconnect a container from a network\n",
      "  inspect     Display detailed information on one or more networks\n",
      "  ls          List networks\n",
      "  prune       Remove all unused networks\n",
      "  rm          Remove one or more networks\n",
      "\n",
      "Run 'docker network COMMAND --help' for more information on a command.\n"
     ]
    }
   ],
   "source": [
    "%%bash\n",
    "docker network"
   ]
  },
  {
   "cell_type": "code",
   "execution_count": 6,
   "metadata": {},
   "outputs": [
    {
     "name": "stdout",
     "output_type": "stream",
     "text": [
      "NETWORK ID          NAME                             DRIVER              SCOPE\n",
      "0d007a2ab699        alpinenovnc_x11                  bridge              local\n",
      "e83887335de7        bridge                           bridge              local\n",
      "57d54b705ec8        coreemu_default                  bridge              local\n",
      "77b9250aaac3        djangodocker_default             bridge              local\n",
      "ff02eb41e98c        fixturerobots_default            bridge              local\n",
      "3cf8a5d2ac28        flaskcelerydockerscale_default   bridge              local\n",
      "2ad5dd1aa9c1        host                             host                local\n",
      "aab12fe2f8d8        mqttrestcomp_default             bridge              local\n",
      "ae72e1a98f95        mqttvsrestpapaertest_default     bridge              local\n",
      "7702a7a28bf4        noderedpython_default            bridge              local\n",
      "58d70d4ebb01        none                             null                local\n",
      "46c79b8797fe        rtd_test_tp2                     bridge              local\n",
      "1eb129c14117        txscada_default                  bridge              local\n"
     ]
    }
   ],
   "source": [
    "%%bash\n",
    "docker network ls"
   ]
  },
  {
   "cell_type": "code",
   "execution_count": 9,
   "metadata": {},
   "outputs": [
    {
     "name": "stdout",
     "output_type": "stream",
     "text": [
      "1: lo: <LOOPBACK,UP,LOWER_UP> mtu 65536 qdisc noqueue state UNKNOWN group default qlen 1\n",
      "    link/loopback 00:00:00:00:00:00 brd 00:00:00:00:00:00\n",
      "    inet 127.0.0.1/8 scope host lo\n",
      "       valid_lft forever preferred_lft forever\n",
      "2: tunl0@NONE: <NOARP> mtu 1480 qdisc noop state DOWN group default qlen 1\n",
      "    link/ipip 0.0.0.0 brd 0.0.0.0\n",
      "3: gre0@NONE: <NOARP> mtu 1476 qdisc noop state DOWN group default qlen 1\n",
      "    link/gre 0.0.0.0 brd 0.0.0.0\n",
      "4: gretap0@NONE: <BROADCAST,MULTICAST> mtu 1462 qdisc noop state DOWN group default qlen 1000\n",
      "    link/ether 00:00:00:00:00:00 brd ff:ff:ff:ff:ff:ff\n",
      "5: ip_vti0@NONE: <NOARP> mtu 1332 qdisc noop state DOWN group default qlen 1\n",
      "    link/ipip 0.0.0.0 brd 0.0.0.0\n",
      "6: ip6_vti0@NONE: <NOARP> mtu 1500 qdisc noop state DOWN group default qlen 1\n",
      "    link/tunnel6 :: brd ::\n",
      "7: sit0@NONE: <NOARP> mtu 1480 qdisc noop state DOWN group default qlen 1\n",
      "    link/sit 0.0.0.0 brd 0.0.0.0\n",
      "8: ip6tnl0@NONE: <NOARP> mtu 1452 qdisc noop state DOWN group default qlen 1\n",
      "    link/tunnel6 :: brd ::\n",
      "9: ip6gre0@NONE: <NOARP> mtu 1448 qdisc noop state DOWN group default qlen 1\n",
      "    link/gre6 00:00:00:00:00:00:00:00:00:00:00:00:00:00:00:00 brd 00:00:00:00:00:00:00:00:00:00:00:00:00:00:00:00\n",
      "27: eth0@if28: <BROADCAST,MULTICAST,UP,LOWER_UP> mtu 1500 qdisc noqueue state UP group default \n",
      "    link/ether 02:42:ac:11:00:02 brd ff:ff:ff:ff:ff:ff\n",
      "    inet 172.17.0.2/16 scope global eth0\n",
      "       valid_lft forever preferred_lft forever\n"
     ]
    }
   ],
   "source": [
    "%%bash\n",
    "docker run debian ip address"
   ]
  },
  {
   "cell_type": "markdown",
   "metadata": {},
   "source": [
    "# Docker Compose"
   ]
  },
  {
   "cell_type": "code",
   "execution_count": 3,
   "metadata": {},
   "outputs": [],
   "source": [
    "%%bash\n",
    "# En windows quitar el -p\n",
    "mkdir -p proyecto"
   ]
  },
  {
   "cell_type": "code",
   "execution_count": 4,
   "metadata": {},
   "outputs": [
    {
     "name": "stderr",
     "output_type": "stream",
     "text": [
      "UsageError: %%writefile is a cell magic, but the cell body is empty.\n"
     ]
    }
   ],
   "source": [
    "%%writefile proyecto/docker-compose.yml\n",
    "\n",
    "version: '2'\n",
    "service:\n",
    "    web:\n",
    "        nginx\n",
    "    "
   ]
  },
  {
   "cell_type": "code",
   "execution_count": null,
   "metadata": {
    "collapsed": true
   },
   "outputs": [],
   "source": []
  }
 ],
 "metadata": {
  "kernelspec": {
   "display_name": "Python 3",
   "language": "python",
   "name": "python3"
  },
  "language_info": {
   "codemirror_mode": {
    "name": "ipython",
    "version": 3
   },
   "file_extension": ".py",
   "mimetype": "text/x-python",
   "name": "python",
   "nbconvert_exporter": "python",
   "pygments_lexer": "ipython3",
   "version": "3.6.0"
  },
  "toc": {
   "nav_menu": {},
   "number_sections": true,
   "sideBar": true,
   "skip_h1_title": false,
   "toc_cell": false,
   "toc_position": {},
   "toc_section_display": "block",
   "toc_window_display": false
  },
  "varInspector": {
   "cols": {
    "lenName": 16,
    "lenType": 16,
    "lenVar": 40
   },
   "kernels_config": {
    "python": {
     "delete_cmd_postfix": "",
     "delete_cmd_prefix": "del ",
     "library": "var_list.py",
     "varRefreshCmd": "print(var_dic_list())"
    },
    "r": {
     "delete_cmd_postfix": ") ",
     "delete_cmd_prefix": "rm(",
     "library": "var_list.r",
     "varRefreshCmd": "cat(var_dic_list()) "
    }
   },
   "types_to_exclude": [
    "module",
    "function",
    "builtin_function_or_method",
    "instance",
    "_Feature"
   ],
   "window_display": false
  }
 },
 "nbformat": 4,
 "nbformat_minor": 2
}
