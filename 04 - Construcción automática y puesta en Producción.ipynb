{
 "cells": [
  {
   "cell_type": "markdown",
   "metadata": {
    "collapsed": true
   },
   "source": [
    "# Construcción de Imágenes\n",
    "\n",
    "* Docker es útil para generar *artefactos* para pruebas, además de imágenes para producción.\n",
    "* Sistemas [SaaS](https://es.wikipedia.org/wiki/Software_como_servicio) para ejecución de pruebas como [Travis](https://travis-ci.org/), [CircleCI](https://circleci.com/), etc utilzan Docker para generar un entorno dónde correr las pruebas. También podemos utilizarlo con [Jenkins](https://jenkins.io/solutions/docker/)\n",
    "* Gitlab, una plataforma para gestión de repositorios Git, que a su vez ingegra sistema de [CI/CD](https://about.gitlab.com/features/gitlab-ci-cd/)"
   ]
  },
  {
   "cell_type": "markdown",
   "metadata": {
    "collapsed": true
   },
   "source": [
    "## Caso Gitlab\n",
    "\n",
    "* Gitlab soporta la definición de un archivo [`.gitlab-ci.yml`](https://docs.gitlab.com/ce/ci/yaml/README.html)\n",
    "\n",
    "* Ejmplo para una aplicación **NodeJS**:\n",
    "    ```yaml\n",
    "    image: node:4.2.2\n",
    "\n",
    "    cache:\n",
    "      paths:\n",
    "      - node_modules/\n",
    "\n",
    "    stages:\n",
    "      - test\n",
    "\n",
    "    test_app:\n",
    "      stage: test\n",
    "      script:\n",
    "        - make test\n",
    "    ```\n",
    "* Gitlab es un [**registry**](https://about.gitlab.com/2016/05/23/gitlab-container-registry/).\n",
    "* Gitlab puede correr [como un contenedor](https://docs.gitlab.com/omnibus/docker/README.html)"
   ]
  },
  {
   "cell_type": "markdown",
   "metadata": {},
   "source": [
    "## Caso DockerHub\n",
    "\n",
    "* Para software público, Docker construye de manera automática proyectos hosteados en Github y BitBucket."
   ]
  },
  {
   "cell_type": "markdown",
   "metadata": {},
   "source": [
    "![](images/dockerhub.png)"
   ]
  },
  {
   "cell_type": "markdown",
   "metadata": {},
   "source": [
    "* Con cada push al repositorio, se incia la construcción y si tiene éxito, se inserta en el registry."
   ]
  },
  {
   "cell_type": "markdown",
   "metadata": {},
   "source": [
    "![](images/autobuild.png)"
   ]
  },
  {
   "cell_type": "markdown",
   "metadata": {},
   "source": [
    "# Docker Machine"
   ]
  },
  {
   "cell_type": "markdown",
   "metadata": {
    "collapsed": true
   },
   "source": [
    "![](images/dockermachine.png)"
   ]
  },
  {
   "cell_type": "markdown",
   "metadata": {},
   "source": [
    "* Docker Machine permite gestionar máquinas virtuales, físicas o en la nube dónde se ejecuta el demonio (servidor) de docker."
   ]
  },
  {
   "cell_type": "markdown",
   "metadata": {},
   "source": [
    "[![](./images/machinedocs.png)](https://docs.docker.com/machine/)"
   ]
  },
  {
   "cell_type": "markdown",
   "metadata": {},
   "source": [
    "## Algunos de los drivers\n",
    "* Amazon Web Services\n",
    "* Microsoft Azure\n",
    "* Digital Ocean\n",
    "* Exoscale\n",
    "* Google Compute Engine\n",
    "* Generic\n",
    "* Microsoft Hyper-V\n",
    "* OpenStack\n",
    "* Rackspace\n",
    "* IBM Softlayer\n",
    "* Oracle VirtualBox\n",
    "* VMware vCloud Air\n",
    "* VMware Fusion\n",
    "* VMware vSphere\n",
    "* VMware Workstation (unofficial plugin, not supported by Docker)\n",
    "* Grid 5000 (unofficial plugin, not supported by Docker)"
   ]
  },
  {
   "cell_type": "markdown",
   "metadata": {},
   "source": [
    "## Workflow"
   ]
  },
  {
   "cell_type": "markdown",
   "metadata": {},
   "source": [
    "* `docker-machine create ... maquina`\n",
    "* `docker-machine ls ...`\n",
    "* `eval $(docker-machine env maquina)`"
   ]
  },
  {
   "cell_type": "code",
   "execution_count": 13,
   "metadata": {
    "collapsed": true
   },
   "outputs": [],
   "source": [
    "!pwd |pbcopy"
   ]
  },
  {
   "cell_type": "code",
   "execution_count": null,
   "metadata": {
    "collapsed": true
   },
   "outputs": [],
   "source": []
  }
 ],
 "metadata": {
  "kernelspec": {
   "display_name": "Python 3",
   "language": "python",
   "name": "python3"
  },
  "language_info": {
   "codemirror_mode": {
    "name": "ipython",
    "version": 3
   },
   "file_extension": ".py",
   "mimetype": "text/x-python",
   "name": "python",
   "nbconvert_exporter": "python",
   "pygments_lexer": "ipython3",
   "version": "3.6.0"
  },
  "varInspector": {
   "cols": {
    "lenName": 16,
    "lenType": 16,
    "lenVar": 40
   },
   "kernels_config": {
    "python": {
     "delete_cmd_postfix": "",
     "delete_cmd_prefix": "del ",
     "library": "var_list.py",
     "varRefreshCmd": "print(var_dic_list())"
    },
    "r": {
     "delete_cmd_postfix": ") ",
     "delete_cmd_prefix": "rm(",
     "library": "var_list.r",
     "varRefreshCmd": "cat(var_dic_list()) "
    }
   },
   "types_to_exclude": [
    "module",
    "function",
    "builtin_function_or_method",
    "instance",
    "_Feature"
   ],
   "window_display": false
  }
 },
 "nbformat": 4,
 "nbformat_minor": 2
}
