{
 "cells": [
  {
   "cell_type": "markdown",
   "metadata": {
    "collapsed": true
   },
   "source": [
    "# Construcción de Imágenes\n",
    "\n",
    "* Docker es útil para generar *artefactos* para pruebas, además de imágenes para producción.\n",
    "* Sistemas [SaaS](https://es.wikipedia.org/wiki/Software_como_servicio) para ejecución de pruebas como [Travis](https://travis-ci.org/), [CircleCI](https://circleci.com/), etc utilzan Docker para generar un entorno dónde correr las pruebas. También podemos utilizarlo con [Jenkins](https://jenkins.io/solutions/docker/)\n",
    "* Gitlab, una plataforma para gestión de repositorios Git, que a su vez ingegra sistema de [CI/CD](https://about.gitlab.com/features/gitlab-ci-cd/)"
   ]
  },
  {
   "cell_type": "markdown",
   "metadata": {
    "collapsed": true
   },
   "source": [
    "## Caso Gitlab\n",
    "\n",
    "* Gitlab soporta la definición de un archivo [`.gitlab-ci.yml`](https://docs.gitlab.com/ce/ci/yaml/README.html)\n",
    "\n",
    "* Ejmplo para una aplicación **NodeJS**:\n",
    "    ```yaml\n",
    "    image: node:4.2.2\n",
    "\n",
    "    cache:\n",
    "      paths:\n",
    "      - node_modules/\n",
    "\n",
    "    stages:\n",
    "      - test\n",
    "\n",
    "    test_app:\n",
    "      stage: test\n",
    "      script:\n",
    "        - make test\n",
    "    ```\n",
    "* Gitlab es un [**registry**](https://about.gitlab.com/2016/05/23/gitlab-container-registry/).\n",
    "* Gitlab puede correr [como un contenedor](https://docs.gitlab.com/omnibus/docker/README.html)"
   ]
  },
  {
   "cell_type": "markdown",
   "metadata": {},
   "source": [
    "## Caso DockerHub\n",
    "\n",
    "* Para software público, Docker construye de manera automática proyectos hosteados en Github y BitBucket."
   ]
  },
  {
   "cell_type": "markdown",
   "metadata": {},
   "source": [
    "![](images/dockerhub.png)"
   ]
  },
  {
   "cell_type": "markdown",
   "metadata": {},
   "source": [
    "* Con cada push al repositorio, se incia la construcción y si tiene éxito, se inserta en el registry."
   ]
  },
  {
   "cell_type": "markdown",
   "metadata": {},
   "source": [
    "![](images/autobuild.png)"
   ]
  },
  {
   "cell_type": "markdown",
   "metadata": {},
   "source": [
    "# Docker Machine"
   ]
  },
  {
   "cell_type": "markdown",
   "metadata": {
    "collapsed": true
   },
   "source": [
    "![](images/dockermachine.png)"
   ]
  },
  {
   "cell_type": "markdown",
   "metadata": {},
   "source": [
    "* Docker Machine permite gestionar máquinas virtuales, físicas o en la nube dónde se ejecuta el demonio (servidor) de docker."
   ]
  },
  {
   "cell_type": "markdown",
   "metadata": {},
   "source": [
    "[![](./images/machinedocs.png)](https://docs.docker.com/machine/)"
   ]
  },
  {
   "cell_type": "markdown",
   "metadata": {},
   "source": [
    "## Algunos de los drivers\n",
    "* Amazon Web Services\n",
    "* Microsoft Azure\n",
    "* Digital Ocean\n",
    "* Exoscale\n",
    "* Google Compute Engine\n",
    "* Generic\n",
    "* Microsoft Hyper-V\n",
    "* OpenStack\n",
    "* Rackspace\n",
    "* IBM Softlayer\n",
    "* Oracle VirtualBox\n",
    "* VMware vCloud Air\n",
    "* VMware Fusion\n",
    "* VMware vSphere\n",
    "* VMware Workstation (unofficial plugin, not supported by Docker)\n",
    "* Grid 5000 (unofficial plugin, not supported by Docker)"
   ]
  },
  {
   "cell_type": "markdown",
   "metadata": {},
   "source": [
    "## Workflow"
   ]
  },
  {
   "cell_type": "markdown",
   "metadata": {},
   "source": [
    "* `docker-machine create ... maquina`\n",
    "* `docker-machine ls ...`\n",
    "* `eval $(docker-machine env maquina)`"
   ]
  },
  {
   "cell_type": "code",
   "execution_count": 14,
   "metadata": {},
   "outputs": [
    {
     "name": "stdout",
     "output_type": "stream",
     "text": [
      "Running pre-create checks...\n",
      "(demo) Image cache directory does not exist, creating it at /Users/nahuel/.docker/machine/cache...\n",
      "(demo) No default Boot2Docker ISO found locally, downloading the latest release...\n",
      "(demo) Latest release for github.com/boot2docker/boot2docker is v17.06.2-ce\n",
      "(demo) Downloading /Users/nahuel/.docker/machine/cache/boot2docker.iso from https://github.com/boot2docker/boot2docker/releases/download/v17.06.2-ce/boot2docker.iso...\n",
      "(demo) 0%....10%....20%....30%....40%....50%....60%....70%....80%....90%....100%\n",
      "Creating machine...\n",
      "(demo) Copying /Users/nahuel/.docker/machine/cache/boot2docker.iso to /Users/nahuel/.docker/machine/machines/demo/boot2docker.iso...\n",
      "(demo) Creating VirtualBox VM...\n",
      "(demo) Creating SSH key...\n",
      "(demo) Starting the VM...\n",
      "(demo) Check network to re-create if needed...\n",
      "(demo) Waiting for an IP...\n",
      "Waiting for machine to be running, this may take a few minutes...\n",
      "Detecting operating system of created instance...\n",
      "Waiting for SSH to be available...\n",
      "Detecting the provisioner...\n",
      "Provisioning with boot2docker...\n",
      "Copying certs to the local machine directory...\n",
      "Copying certs to the remote machine...\n",
      "Setting Docker configuration on the remote daemon...\n",
      "Checking connection to Docker...\n",
      "Docker is up and running!\n",
      "To see how to connect your Docker Client to the Docker Engine running on this virtual machine, run: docker-machine env demo\n"
     ]
    }
   ],
   "source": [
    "!docker-machine create --driver virtualbox demo"
   ]
  },
  {
   "cell_type": "markdown",
   "metadata": {},
   "source": [
    "![](./images/vboxmachine.png)"
   ]
  },
  {
   "cell_type": "code",
   "execution_count": 17,
   "metadata": {},
   "outputs": [
    {
     "name": "stdout",
     "output_type": "stream",
     "text": [
      "192.168.99.100\r\n"
     ]
    }
   ],
   "source": [
    "!docker-machine ip demo"
   ]
  },
  {
   "cell_type": "code",
   "execution_count": 21,
   "metadata": {},
   "outputs": [
    {
     "data": {
      "text/html": [
       "<video src=\"./images/DO Docker Machine Ghost.mp4\" controls>\n",
       "      Your browser does not support the <code>video</code> element.\n",
       "    </video>"
      ],
      "text/plain": [
       "<IPython.core.display.Video object>"
      ]
     },
     "execution_count": 21,
     "metadata": {},
     "output_type": "execute_result"
    }
   ],
   "source": [
    "from IPython.display import Video\n",
    "Video('./images/DO Docker Machine Ghost.mp4')"
   ]
  },
  {
   "cell_type": "code",
   "execution_count": 1,
   "metadata": {},
   "outputs": [
    {
     "name": "stdout",
     "output_type": "stream",
     "text": [
      "\u001b=\u001b[0mPlaying: images/DO Docker Machine Ghost.mp4\n",
      "\u001b[0m\u001b[0m (+) Video --vid=1 (*) (h264 960x540 29.970fps)\n",
      "\u001b[0m\u001b[0mVO: [opengl] 960x540 yuv420p\n",
      "\u001b[0m[0m(Paused) V: 00:00:52 / 00:00:53 (98%) Dropped: 3\n",
      "\u001b[0m\n",
      "\u001b[0m\u001b[0m\n",
      "\u001b[0m\u001b[0mExiting... (Quit)\n",
      "\u001b[0m\u001b>"
     ]
    }
   ],
   "source": [
    "!mpv images/DO\\ Docker\\ Machine\\ Ghost.mp4"
   ]
  },
  {
   "cell_type": "code",
   "execution_count": null,
   "metadata": {
    "collapsed": true
   },
   "outputs": [],
   "source": []
  }
 ],
 "metadata": {
  "kernelspec": {
   "display_name": "Python 3",
   "language": "python",
   "name": "python3"
  },
  "language_info": {
   "codemirror_mode": {
    "name": "ipython",
    "version": 3
   },
   "file_extension": ".py",
   "mimetype": "text/x-python",
   "name": "python",
   "nbconvert_exporter": "python",
   "pygments_lexer": "ipython3",
   "version": "3.6.0"
  },
  "varInspector": {
   "cols": {
    "lenName": 16,
    "lenType": 16,
    "lenVar": 40
   },
   "kernels_config": {
    "python": {
     "delete_cmd_postfix": "",
     "delete_cmd_prefix": "del ",
     "library": "var_list.py",
     "varRefreshCmd": "print(var_dic_list())"
    },
    "r": {
     "delete_cmd_postfix": ") ",
     "delete_cmd_prefix": "rm(",
     "library": "var_list.r",
     "varRefreshCmd": "cat(var_dic_list()) "
    }
   },
   "types_to_exclude": [
    "module",
    "function",
    "builtin_function_or_method",
    "instance",
    "_Feature"
   ],
   "window_display": false
  }
 },
 "nbformat": 4,
 "nbformat_minor": 2
}
