{
 "cells": [
  {
   "cell_type": "markdown",
   "metadata": {},
   "source": [
    "# Kitematic\n",
    "Kitematic es una GUI para administrar contenedores, viene incluida con Docker for Windows, Docker Toolbox y Docker for Mac. En linux debe descargarse [desde aquí](https://github.com/docker/kitematic/releases)"
   ]
  },
  {
   "cell_type": "markdown",
   "metadata": {},
   "source": [
    "![](images/kite.png)"
   ]
  },
  {
   "cell_type": "markdown",
   "metadata": {},
   "source": [
    "# Advertencia ⚠️⚠️\n",
    "\n",
    "Las líneas que tengan doble `%%` son líneas *mágicas* de Jupyter (este formato de archivo), y no son parte de los comandos/archivos de Docker, son agragadas con el fin de ejecutar todo desde este entorno y no recurrir a la temrinal."
   ]
  },
  {
   "cell_type": "markdown",
   "metadata": {
    "slideshow": {
     "slide_type": "slide"
    }
   },
   "source": [
    "# Repaso\n",
    "* Restart policy"
   ]
  },
  {
   "cell_type": "markdown",
   "metadata": {},
   "source": [
    "# Restar Policy\n",
    "\n",
    "* Las restart policies permite definir como debe reiniciarse un contenedor, por defecto es **no**\n",
    "    * `no` es por defecto, si un contenedor se detiene no se rinicia.\n",
    "    * `always` siempre\n",
    "    * `on-failure` cuando haya una falla\n",
    "    * `unless-stopped` a menos que sea detenido con `docker stop`"
   ]
  },
  {
   "cell_type": "markdown",
   "metadata": {
    "slideshow": {
     "slide_type": "slide"
    }
   },
   "source": [
    "# Docker para aplicaciones gráficas\n",
    "Si bien Docker se presenta como una fomra de ejecutar un comando (entrypoint) y no posee un administrador de procesos, es posible crear imágenes que generen un entorno gráfico. \n",
    "Las formas más comunes son VNC (necesita un cliente), noVNC (Web, utiliza un cliente VNC basado en HTML5) y X11 para host Unix."
   ]
  },
  {
   "cell_type": "code",
   "execution_count": 35,
   "metadata": {},
   "outputs": [
    {
     "data": {
      "image/jpeg": "[encoded data removed]",
      "text/html": [
       "\n",
       "        <iframe\n",
       "            width=\"400\"\n",
       "            height=\"300\"\n",
       "            src=\"https://www.youtube.com/embed/GsLZz8cZCzc\"\n",
       "            frameborder=\"0\"\n",
       "            allowfullscreen\n",
       "        ></iframe>\n",
       "        "
      ],
      "text/plain": [
       "<IPython.lib.display.YouTubeVideo at 0x10c057a58>"
      ]
     },
     "execution_count": 35,
     "metadata": {},
     "output_type": "execute_result"
    }
   ],
   "source": [
    "from IPython.display import YouTubeVideo\n",
    "YouTubeVideo('GsLZz8cZCzc')"
   ]
  },
  {
   "cell_type": "markdown",
   "metadata": {
    "slideshow": {
     "slide_type": "slide"
    }
   },
   "source": [
    "# Creación de imágenes propias\n",
    "\n",
    "Para crear una imágen es necesario crear un archivo con nombre `Dockerfile`, en éste se definen una serie de pasos para construir una imagen.\n",
    "\n",
    "* Empieza con `FROM`, imágen de la cual *heredamos*\n",
    "* Tiene una serie de comandos que agregar archivos, ejecutan comandos, o definen variables, entre otras cosas y finalmente...\n",
    "* Define un punto de entrada\n",
    "\n",
    "El formato es el siguiente\n",
    "```bash\n",
    "# Comentrio\n",
    "INSTRUCCION ARGUMENTOS\n",
    "```"
   ]
  },
  {
   "cell_type": "markdown",
   "metadata": {
    "collapsed": true,
    "slideshow": {
     "slide_type": "slide"
    }
   },
   "source": [
    " # Por ejemplo\n",
    " \n",
    " ```\n",
    " FROM ubuntu:16.04\n",
    " RUN apt-get update -q\n",
    " RUN apt-get install python\n",
    " CMD python2 -m SimpleHTTPServer\n",
    " ```\n",
    " "
   ]
  },
  {
   "cell_type": "markdown",
   "metadata": {},
   "source": [
    "# Comandos\n",
    "* **FROM** define la imagen base\n",
    "* **RUN** ejecuta un comando\n",
    "* **CMD** define que comando se ejecuta en el contenedor "
   ]
  },
  {
   "cell_type": "markdown",
   "metadata": {
    "slideshow": {
     "slide_type": "slide"
    }
   },
   "source": [
    "# Para construir la imagen\n",
    "\n",
    "En el mismo directorio dónde tenemos el Dockerfile:\n",
    "\n",
    "```\n",
    "docker build -t servidor .\n",
    "```\n",
    "\n",
    "1. **`-t`** es la etiqueta o *tag*\n",
    "2. **.** es el contexto, el punto hace referencia al directorio actual\n",
    "\n"
   ]
  },
  {
   "cell_type": "markdown",
   "metadata": {
    "slideshow": {
     "slide_type": "skip"
    }
   },
   "source": [
    "# El contexto y el Dockerfile\n",
    "\n",
    "`docker build -f /path/to/a/Dockerfile .`"
   ]
  },
  {
   "cell_type": "markdown",
   "metadata": {},
   "source": [
    "Veamos un ejemplo..."
   ]
  },
  {
   "cell_type": "code",
   "execution_count": 44,
   "metadata": {},
   "outputs": [
    {
     "name": "stdout",
     "output_type": "stream",
     "text": [
      "Overwriting app.py\n"
     ]
    }
   ],
   "source": [
    "%%writefile app.py\n",
    "\n",
    "from flask import Flask\n",
    "from glob import glob\n",
    "app = Flask(__name__)\n",
    "@app.route('/')\n",
    "def index():\n",
    "    \n",
    "    return \"<br/>\".join(glob(\"/data/*\"))\n",
    "\n",
    "app.run(debug=True, host='0', port=3000)"
   ]
  },
  {
   "cell_type": "code",
   "execution_count": 45,
   "metadata": {},
   "outputs": [
    {
     "name": "stdout",
     "output_type": "stream",
     "text": [
      "Overwriting Dockerfile\n"
     ]
    }
   ],
   "source": [
    "%%writefile Dockerfile\n",
    "\n",
    "FROM python:2.7\n",
    "RUN pip install Flask\n",
    "ADD app.py /app.py\n",
    "EXPOSE 3000\n",
    "VOLUME /data\n",
    "CMD python app.py"
   ]
  },
  {
   "cell_type": "code",
   "execution_count": 1,
   "metadata": {},
   "outputs": [
    {
     "name": "stdout",
     "output_type": "stream",
     "text": [
      "Dockerfile\n",
      "app.py\n"
     ]
    }
   ],
   "source": [
    "%%bash\n",
    "ls Dockerfile *.py"
   ]
  },
  {
   "cell_type": "markdown",
   "metadata": {},
   "source": [
    "# Construcción"
   ]
  },
  {
   "cell_type": "code",
   "execution_count": 2,
   "metadata": {},
   "outputs": [
    {
     "name": "stdout",
     "output_type": "stream",
     "text": [
      "Sending build context to Docker daemon  6.807MB\r",
      "\r\n",
      "Step 1/6 : FROM python:2.7\n",
      " ---> ca388cdb5ac1\n",
      "Step 2/6 : RUN pip install Flask\n",
      " ---> Using cache\n",
      " ---> b3da50436eb1\n",
      "Step 3/6 : ADD app.py /app.py\n",
      " ---> Using cache\n",
      " ---> e95279d70d7c\n",
      "Step 4/6 : EXPOSE 3000\n",
      " ---> Using cache\n",
      " ---> 94a20edf69c8\n",
      "Step 5/6 : VOLUME /data\n",
      " ---> Using cache\n",
      " ---> 6c1eb12c06ac\n",
      "Step 6/6 : CMD python app.py\n",
      " ---> Using cache\n",
      " ---> e63b9519b355\n",
      "Successfully built e63b9519b355\n",
      "Successfully tagged miservicio:latest\n"
     ]
    }
   ],
   "source": [
    "%%bash\n",
    "docker build -t miservicio ."
   ]
  },
  {
   "cell_type": "markdown",
   "metadata": {},
   "source": [
    "# Ejecución"
   ]
  },
  {
   "cell_type": "code",
   "execution_count": 53,
   "metadata": {},
   "outputs": [
    {
     "name": "stdout",
     "output_type": "stream",
     "text": [
      "2ddac5f1dc44a572498ed74d70cdc23b9170daf2c70fc411767dee6af41ca309\n"
     ]
    }
   ],
   "source": [
    "%%bash\n",
    "# -d en segundo plano\n",
    "docker run -P -d miservicio "
   ]
  },
  {
   "cell_type": "code",
   "execution_count": 54,
   "metadata": {},
   "outputs": [
    {
     "name": "stdout",
     "output_type": "stream",
     "text": [
      "CONTAINER ID        IMAGE                            COMMAND                  CREATED             STATUS              PORTS                     NAMES\n",
      "2ddac5f1dc44        miservicio                       \"/bin/sh -c 'pytho...\"   8 seconds ago       Up 6 seconds        0.0.0.0:32782->3000/tcp   gifted_khorana\n",
      "621abe4b0815        miservicio                       \"/bin/sh -c 'pytho...\"   28 seconds ago      Up 26 seconds       0.0.0.0:32781->3000/tcp   agitated_kepler\n",
      "ea4b29461d6b        nodered/node-red-docker:latest   \"npm start -- --us...\"   4 hours ago         Up 4 hours          0.0.0.0:2000->1880/tcp    node-red-docker-2\n"
     ]
    }
   ],
   "source": [
    "%%bash\n",
    "docker ps"
   ]
  },
  {
   "cell_type": "markdown",
   "metadata": {},
   "source": [
    "# Otros comandos\n",
    "* **USER** define un usuario, por defecto se utiliza **root**.\n",
    "* **WORKDIR** define un directorio de trabajo, por defecto se utiliza /\n",
    "* **EXPOSE** publica un puerto.\n",
    "* **VOLUME** define un volumen para persistencia (útil para DBs o compartir datos entre contenedores o con el host).\n",
    "\n",
    "Existen otros comados documentados en [la guía oficial](https://docs.docker.com/engine/reference/builder/#usage)"
   ]
  },
  {
   "cell_type": "markdown",
   "metadata": {},
   "source": [
    "# AUFS\n",
    "\n",
    "Las imágenes e incluso los contenedores, utilizan un sistema de diferencias para almacenamiento. Esto se conoce como el sistema de archivos AUFS, que permite que si múltiples imágenes parten de una misma imágen base, solo se guarda una copia, y en cada imágen derivada, se lamacenan las diferencias.\n",
    "\n",
    "En el momento de la construcción, esto se aplica de la siguiente manera:\n",
    "\n",
    "* Cada líneade RUN/ADD/COPY almacena la diferencia contra el paso pervio.\n",
    "* Si se detecta que la operación ya se realizó, se toma de la caché.\n",
    "* Si se agregan archivos con ADD/COPY y no cambiaron, se respeta la caché.\n",
    "* Si cambiaron, no se utiliza la caché."
   ]
  },
  {
   "cell_type": "markdown",
   "metadata": {},
   "source": [
    "# Probando Docker en [Play With Docker](http://labs.play-with-docker.com/)\n",
    "[Play With Docker](http://labs.play-with-docker.com/) nos provee un entorno para ejecutar contenedores en la nube con una terminal interactiva. \n",
    "\n",
    "También tenemos disponibles desde ciertos botones en el DockerHub, una forma de crear un conjunto de contenedores enlazados, llamados **stacks**, por ejemplo a continuación, vemos uno creado a partir del popupar gestor de contenidos Wordpress."
   ]
  },
  {
   "cell_type": "code",
   "execution_count": 59,
   "metadata": {},
   "outputs": [
    {
     "data": {
      "text/html": [
       "<video src=\"./images/wppwd.mp4\" controls>\n",
       "      Your browser does not support the <code>video</code> element.\n",
       "    </video>"
      ],
      "text/plain": [
       "<IPython.core.display.Video object>"
      ]
     },
     "execution_count": 59,
     "metadata": {},
     "output_type": "execute_result"
    }
   ],
   "source": [
    "from IPython.display import Video\n",
    "Video('./images/wppwd.mp4')"
   ]
  },
  {
   "cell_type": "code",
   "execution_count": null,
   "metadata": {
    "collapsed": true
   },
   "outputs": [],
   "source": []
  }
 ],
 "metadata": {
  "celltoolbar": "Slideshow",
  "kernelspec": {
   "display_name": "Python 3",
   "language": "python",
   "name": "python3"
  },
  "language_info": {
   "codemirror_mode": {
    "name": "ipython",
    "version": 3
   },
   "file_extension": ".py",
   "mimetype": "text/x-python",
   "name": "python",
   "nbconvert_exporter": "python",
   "pygments_lexer": "ipython3",
   "version": "3.6.0"
  },
  "toc": {
   "nav_menu": {},
   "number_sections": true,
   "sideBar": true,
   "skip_h1_title": false,
   "toc_cell": false,
   "toc_position": {},
   "toc_section_display": "block",
   "toc_window_display": false
  },
  "varInspector": {
   "cols": {
    "lenName": 16,
    "lenType": 16,
    "lenVar": 40
   },
   "kernels_config": {
    "python": {
     "delete_cmd_postfix": "",
     "delete_cmd_prefix": "del ",
     "library": "var_list.py",
     "varRefreshCmd": "print(var_dic_list())"
    },
    "r": {
     "delete_cmd_postfix": ") ",
     "delete_cmd_prefix": "rm(",
     "library": "var_list.r",
     "varRefreshCmd": "cat(var_dic_list()) "
    }
   },
   "types_to_exclude": [
    "module",
    "function",
    "builtin_function_or_method",
    "instance",
    "_Feature"
   ],
   "window_display": false
  }
 },
 "nbformat": 4,
 "nbformat_minor": 2
}
