{
 "cells": [
  {
   "cell_type": "markdown",
   "metadata": {},
   "source": [
    "# Material Adicional"
   ]
  },
  {
   "cell_type": "markdown",
   "metadata": {},
   "source": [
    "<img src=\"http://mwatson.co.uk/wp-content/uploads/2014/01/vagrant-logo.png\" width=\"20%\">\n",
    "\n",
    "\n",
    "## Vagrant\n",
    "\n",
    "Vagrant es un Lenguaje Específico de Dominio para descripción y aprovisionamiento de máquinas virtuales.\n",
    "\n",
    "Su definción es mediante un `Vagrantfile`:\n",
    "\n",
    "```ruby\n",
    "# -*- mode: ruby -*-\n",
    "# vi: set ft=ruby :\n",
    "\n",
    "Vagrant.configure(\"2\") do |config|\n",
    "\n",
    "\n",
    "  [\n",
    "    \"alumno1\",\n",
    "    \"alumno2\",\n",
    "    \"alumno3\",\n",
    "    \"alumno4\",\n",
    "  ].each do |nombre|\n",
    "\n",
    "    config.vm.define nombre do |cfg|\n",
    "\n",
    "      config.vm.provider \"virtualbox\" do |v|\n",
    "        # Reducción de MBs\n",
    "        v.memory = 230\n",
    "      end\n",
    "\n",
    "      cfg.vm.box = \"xenial\"\n",
    "      cfg.vm.network :public_network, bridge: 'enp2s0'\n",
    "      cfg.vm.box_check_update = false\n",
    "      # config.ssh.username = 'root'\n",
    "      cfg.ssh.password = 'vagrant'\n",
    "\n",
    "      cfg.vm.provision \"docker\" do |d|\n",
    "        # Esto grarantiza la instalación de Docker para\n",
    "        # reducir el tiempo de aprovisionamiento de Docker Machine\n",
    "        d.pull_images \"hello-world\"\n",
    "      end\n",
    "    end\n",
    "\n",
    "  end\n",
    "\n",
    "end\n",
    "\n",
    "```"
   ]
  },
  {
   "cell_type": "code",
   "execution_count": null,
   "metadata": {
    "collapsed": true
   },
   "outputs": [],
   "source": []
  }
 ],
 "metadata": {
  "kernelspec": {
   "display_name": "Python 3",
   "language": "python",
   "name": "python3"
  },
  "language_info": {
   "codemirror_mode": {
    "name": "ipython",
    "version": 3
   },
   "file_extension": ".py",
   "mimetype": "text/x-python",
   "name": "python",
   "nbconvert_exporter": "python",
   "pygments_lexer": "ipython3",
   "version": "3.6.0"
  },
  "varInspector": {
   "cols": {
    "lenName": 16,
    "lenType": 16,
    "lenVar": 40
   },
   "kernels_config": {
    "python": {
     "delete_cmd_postfix": "",
     "delete_cmd_prefix": "del ",
     "library": "var_list.py",
     "varRefreshCmd": "print(var_dic_list())"
    },
    "r": {
     "delete_cmd_postfix": ") ",
     "delete_cmd_prefix": "rm(",
     "library": "var_list.r",
     "varRefreshCmd": "cat(var_dic_list()) "
    }
   },
   "types_to_exclude": [
    "module",
    "function",
    "builtin_function_or_method",
    "instance",
    "_Feature"
   ],
   "window_display": false
  }
 },
 "nbformat": 4,
 "nbformat_minor": 2
}
